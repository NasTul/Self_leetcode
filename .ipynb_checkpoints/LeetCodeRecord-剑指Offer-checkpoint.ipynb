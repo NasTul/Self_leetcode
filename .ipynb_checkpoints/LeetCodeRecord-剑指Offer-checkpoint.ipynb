{
 "cells": [
  {
   "cell_type": "markdown",
   "metadata": {},
   "source": [
    "#### Two stack queue"
   ]
  },
  {
   "cell_type": "code",
   "execution_count": 7,
   "metadata": {},
   "outputs": [],
   "source": [
    "### use two stacks as queue\n",
    "### one input, one output"
   ]
  },
  {
   "cell_type": "code",
   "execution_count": 3,
   "metadata": {},
   "outputs": [],
   "source": [
    "class CQueue:\n",
    "    import numpy as np\n",
    "    def __init__(self):\n",
    "        self.queuein, self.queueout=[],[]\n",
    "\n",
    "    def appendTail(self, value: int) -> None:\n",
    "        self.queuein.append(value)\n",
    "\n",
    "    def deleteHead(self) -> int:\n",
    "        if self.queueout==[]:\n",
    "            while self.queuein:\n",
    "                self.queueout.append(self.queuein.pop())\n",
    "        if self.queueout==[]:\n",
    "            return -1\n",
    "        return self.queueout.pop()"
   ]
  },
  {
   "cell_type": "code",
   "execution_count": null,
   "metadata": {},
   "outputs": [],
   "source": []
  },
  {
   "cell_type": "markdown",
   "metadata": {},
   "source": [
    "#### Design a stack that supports push, pop, top, and retrieving the minimum element in constant time."
   ]
  },
  {
   "cell_type": "code",
   "execution_count": 8,
   "metadata": {},
   "outputs": [],
   "source": [
    "### two stacks, one record min, two stacks has the same size."
   ]
  },
  {
   "cell_type": "code",
   "execution_count": 2,
   "metadata": {},
   "outputs": [],
   "source": [
    "class MinStack:\n",
    "\n",
    "    def __init__(self):\n",
    "        \"\"\"\n",
    "        initialize your data structure here.\n",
    "        \"\"\"\n",
    "        self.stack=[]\n",
    "        self.minstack=[]\n",
    "    def push(self, x: int) -> None:\n",
    "        if self.stack==[] or self.minstack[-1] > x:\n",
    "            self.minstack.append(x)\n",
    "        else :\n",
    "            self.minstack.append(self.minstack[-1])\n",
    "\n",
    "        self.stack.append(x)\n",
    "\n",
    "\n",
    "    def pop(self) -> None:\n",
    "        self.stack.pop()\n",
    "        self.minstack.pop()\n",
    "\n",
    "\n",
    "    def top(self) -> int:\n",
    "        return self.stack[-1]\n",
    "\n",
    "    def min(self) -> int:\n",
    "        return self.minstack[-1]"
   ]
  },
  {
   "cell_type": "code",
   "execution_count": null,
   "metadata": {},
   "outputs": [],
   "source": []
  },
  {
   "cell_type": "markdown",
   "metadata": {},
   "source": [
    "#### Print linked list from tail."
   ]
  },
  {
   "cell_type": "code",
   "execution_count": null,
   "metadata": {},
   "outputs": [],
   "source": [
    "# Definition for singly-linked list.\n",
    "# class ListNode:\n",
    "#     def __init__(self, x):\n",
    "#         self.val = x\n",
    "#         self.next = None\n",
    "\n",
    "class Solution:\n",
    "    def reversePrint(self, head: ListNode) -> List[int]:\n",
    "        arr=[]\n",
    "        nownode=head\n",
    "        while True:\n",
    "            if nownode==None:\n",
    "                break\n",
    "            arr.append(nownode.val)\n",
    "            nownode = nownode.next\n",
    "            \n",
    "        return_arr=[]\n",
    "        while arr!=[]:\n",
    "            return_arr.append(arr.pop())\n",
    "        return return_arr"
   ]
  },
  {
   "cell_type": "code",
   "execution_count": null,
   "metadata": {},
   "outputs": [],
   "source": []
  }
 ],
 "metadata": {
  "kernelspec": {
   "display_name": "Python 3",
   "language": "python",
   "name": "python3"
  },
  "language_info": {
   "codemirror_mode": {
    "name": "ipython",
    "version": 3
   },
   "file_extension": ".py",
   "mimetype": "text/x-python",
   "name": "python",
   "nbconvert_exporter": "python",
   "pygments_lexer": "ipython3",
   "version": "3.8.5"
  }
 },
 "nbformat": 4,
 "nbformat_minor": 4
}
