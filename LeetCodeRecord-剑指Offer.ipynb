{
 "cells": [
  {
   "cell_type": "markdown",
   "metadata": {},
   "source": [
    "#### Two stack queue"
   ]
  },
  {
   "cell_type": "code",
   "execution_count": 7,
   "metadata": {},
   "outputs": [],
   "source": [
    "### use two stacks as queue\n",
    "### one input, one output"
   ]
  },
  {
   "cell_type": "code",
   "execution_count": 3,
   "metadata": {},
   "outputs": [],
   "source": [
    "class CQueue:\n",
    "    import numpy as np\n",
    "    def __init__(self):\n",
    "        self.queuein, self.queueout=[],[]\n",
    "\n",
    "    def appendTail(self, value: int) -> None:\n",
    "        self.queuein.append(value)\n",
    "\n",
    "    def deleteHead(self) -> int:\n",
    "        if self.queueout==[]:\n",
    "            while self.queuein:\n",
    "                self.queueout.append(self.queuein.pop())\n",
    "        if self.queueout==[]:\n",
    "            return -1\n",
    "        return self.queueout.pop()"
   ]
  },
  {
   "cell_type": "code",
   "execution_count": null,
   "metadata": {},
   "outputs": [],
   "source": []
  },
  {
   "cell_type": "markdown",
   "metadata": {},
   "source": [
    "#### Design a stack that supports push, pop, top, and retrieving the minimum element in constant time."
   ]
  },
  {
   "cell_type": "code",
   "execution_count": 8,
   "metadata": {},
   "outputs": [],
   "source": [
    "### two stacks, one record min, two stacks has the same size."
   ]
  },
  {
   "cell_type": "code",
   "execution_count": 2,
   "metadata": {},
   "outputs": [],
   "source": [
    "class MinStack:\n",
    "\n",
    "    def __init__(self):\n",
    "        \"\"\"\n",
    "        initialize your data structure here.\n",
    "        \"\"\"\n",
    "        self.stack=[]\n",
    "        self.minstack=[]\n",
    "    def push(self, x: int) -> None:\n",
    "        if self.stack==[] or self.minstack[-1] > x:\n",
    "            self.minstack.append(x)\n",
    "        else :\n",
    "            self.minstack.append(self.minstack[-1])\n",
    "\n",
    "        self.stack.append(x)\n",
    "\n",
    "\n",
    "    def pop(self) -> None:\n",
    "        self.stack.pop()\n",
    "        self.minstack.pop()\n",
    "\n",
    "\n",
    "    def top(self) -> int:\n",
    "        return self.stack[-1]\n",
    "\n",
    "    def min(self) -> int:\n",
    "        return self.minstack[-1]"
   ]
  },
  {
   "cell_type": "code",
   "execution_count": null,
   "metadata": {},
   "outputs": [],
   "source": []
  },
  {
   "cell_type": "markdown",
   "metadata": {},
   "source": [
    "#### Print linked list from tail."
   ]
  },
  {
   "cell_type": "code",
   "execution_count": 11,
   "metadata": {},
   "outputs": [],
   "source": [
    "### 栈存， 然后读取刀数组里"
   ]
  },
  {
   "cell_type": "code",
   "execution_count": null,
   "metadata": {},
   "outputs": [],
   "source": [
    "# Definition for singly-linked list.\n",
    "# class ListNode:\n",
    "#     def __init__(self, x):\n",
    "#         self.val = x\n",
    "#         self.next = None\n",
    "\n",
    "class Solution:\n",
    "    def reversePrint(self, head: ListNode) -> List[int]:\n",
    "        arr=[]\n",
    "        nownode=head\n",
    "        while True:\n",
    "            if nownode==None:\n",
    "                break\n",
    "            arr.append(nownode.val)\n",
    "            nownode = nownode.next\n",
    "            \n",
    "        return_arr=[]\n",
    "        while arr!=[]:\n",
    "            return_arr.append(arr.pop())\n",
    "        return return_arr"
   ]
  },
  {
   "cell_type": "code",
   "execution_count": null,
   "metadata": {},
   "outputs": [],
   "source": []
  },
  {
   "cell_type": "markdown",
   "metadata": {},
   "source": [
    "#### Given the head of a singly linked list, reverse the list, and return the reversed list."
   ]
  },
  {
   "cell_type": "code",
   "execution_count": 12,
   "metadata": {},
   "outputs": [],
   "source": [
    "### 反转单链表，打印\n",
    "### 从头向尾遍历， 直接将链接转向。"
   ]
  },
  {
   "cell_type": "code",
   "execution_count": null,
   "metadata": {},
   "outputs": [],
   "source": [
    "# Definition for singly-linked list.\n",
    "# class ListNode:\n",
    "#     def __init__(self, x):\n",
    "#         self.val = x\n",
    "#         self.next = None\n",
    "\n",
    "class Solution:\n",
    "    def reverseList(self, head: ListNode) -> ListNode:\n",
    "        curr_node = head\n",
    "        pre_node=None\n",
    "\n",
    "        while curr_node!=None:\n",
    "            next_node = curr_node.next\n",
    "            curr_node.next = pre_node\n",
    "            pre_node = curr_node\n",
    "            curr_node = next_node\n",
    "\n",
    "        return pre_node"
   ]
  },
  {
   "cell_type": "code",
   "execution_count": null,
   "metadata": {},
   "outputs": [],
   "source": [
    "\n",
    "## bad solution\n",
    "\n",
    "# # Definition for singly-linked list.\n",
    "# # class ListNode:\n",
    "# #     def __init__(self, x):\n",
    "# #         self.val = x\n",
    "# #         self.next = None\n",
    "\n",
    "# class Solution:\n",
    "#     def reverseList(self, head: ListNode) -> ListNode:\n",
    "#         temp_arr = []\n",
    "#         old_node=head\n",
    "#         while old_node !=None:\n",
    "#             temp_arr.append(old_node.val)\n",
    "#             old_node=old_node.next\n",
    "\n",
    "#         if temp_arr==[]:\n",
    "#             return None\n",
    "\n",
    "#         new_node=ListNode(temp_arr.pop())\n",
    "#         new_node.next=None\n",
    "#         new_node_head = new_node\n",
    "#         while temp_arr:\n",
    "#             temp_node=ListNode(temp_arr.pop())\n",
    "#             temp_node.next=None\n",
    "#             new_node.next=temp_node\n",
    "#             new_node = temp_node\n",
    "\n",
    "#         return new_node_head"
   ]
  },
  {
   "cell_type": "code",
   "execution_count": null,
   "metadata": {},
   "outputs": [],
   "source": []
  },
  {
   "cell_type": "code",
   "execution_count": null,
   "metadata": {},
   "outputs": [],
   "source": []
  },
  {
   "cell_type": "markdown",
   "metadata": {},
   "source": [
    "#### 复杂链表的复制"
   ]
  },
  {
   "cell_type": "code",
   "execution_count": null,
   "metadata": {},
   "outputs": [],
   "source": []
  },
  {
   "cell_type": "code",
   "execution_count": null,
   "metadata": {},
   "outputs": [],
   "source": [
    "\n",
    "\n",
    "# \"\"\"\n",
    "# # Definition for a Node.\n",
    "# class Node:\n",
    "#     def __init__(self, x: int, next: 'Node' = None, random: 'Node' = None):\n",
    "#         self.val = int(x)\n",
    "#         self.next = next\n",
    "#         self.random = random\n",
    "# \"\"\"\n",
    "# class Solution:\n",
    "#     def copyRandomList(self, head: 'Node') -> 'Node':\n",
    "#         dic={}\n",
    "#         curr_node = head\n",
    "#         if head == None:\n",
    "#             return None\n",
    "#         while curr_node:\n",
    "#             dic[curr_node] = Node(curr_node.val)\n",
    "#             curr_node=curr_node.next\n",
    "\n",
    "#         curr_node = head    \n",
    "#         while curr_node:\n",
    "#             if curr_node.next == None:\n",
    "#                 dic[curr_node].next = None\n",
    "#             else:\n",
    "#                 dic[curr_node].next = dic[curr_node.next]\n",
    "#             if curr_node.random == None:\n",
    "#                 dic[curr_node].random = None\n",
    "#             else:\n",
    "#                 dic[curr_node].random  = dic[curr_node.random]\n",
    "           \n",
    "#             curr_node = curr_node.next\n",
    "\n",
    "#         return dic[head]"
   ]
  },
  {
   "cell_type": "code",
   "execution_count": 16,
   "metadata": {},
   "outputs": [],
   "source": [
    "# get cost more\n",
    "# dic.get(None)\n",
    "# dic[None]"
   ]
  },
  {
   "cell_type": "code",
   "execution_count": null,
   "metadata": {},
   "outputs": [],
   "source": [
    "# \"\"\"\n",
    "# # Definition for a Node.\n",
    "# class Node:\n",
    "#     def __init__(self, x: int, next: 'Node' = None, random: 'Node' = None):\n",
    "#         self.val = int(x)\n",
    "#         self.next = next\n",
    "#         self.random = random\n",
    "# \"\"\"\n",
    "# class Solution:\n",
    "#     def copyRandomList(self, head: 'Node') -> 'Node':\n",
    "\n",
    "#         if not head: return\n",
    "\n",
    "#         curr_node = head\n",
    "#         while curr_node:\n",
    "            \n",
    "#             next_node= curr_node.next \n",
    "#             curr_node.next = Node(curr_node.val)\n",
    "#             curr_node.next.next = next_node\n",
    "#             curr_node = next_node\n",
    "         \n",
    "\n",
    "#         curr_node = head\n",
    "\n",
    "\n",
    "#         while curr_node:\n",
    "#             if curr_node.random:\n",
    "#                 curr_node.next.random = curr_node.random.next\n",
    "#             curr_node = curr_node.next.next\n",
    "\n",
    "#         curr_node = head\n",
    "#         new_node = temp_new_node = head.next\n",
    "        \n",
    "#         while temp_new_node.next:\n",
    "#             curr_node.next=curr_node.next.next\n",
    "#             temp_new_node.next=temp_new_node.next.next\n",
    "\n",
    "#             curr_node=curr_node.next\n",
    "#             temp_new_node=temp_new_node.next\n",
    "            \n",
    "#         curr_node.next=None\n",
    "\n",
    "#         return new_node\n"
   ]
  },
  {
   "cell_type": "markdown",
   "metadata": {},
   "source": [
    "#### 找出数组中重复的数字。\n",
    "\n",
    "\n",
    "#### 在一个长度为 n 的数组 nums 里的所有数字都在 0～n-1 的范围内。数组中某些数字是重复的，但不知道有几个数字重复了，也不知道每个数字重复了几次。请找出数组中任意一个重复的数字。\n"
   ]
  },
  {
   "cell_type": "code",
   "execution_count": null,
   "metadata": {},
   "outputs": [],
   "source": [
    "### 遍历数组时交换当前位置的数， 注意交换后需要判断一遍。"
   ]
  },
  {
   "cell_type": "code",
   "execution_count": 38,
   "metadata": {},
   "outputs": [],
   "source": [
    "class Solution:\n",
    "    def findRepeatNumber(self, nums: List[int]) -> int:\n",
    "        index=0\n",
    "        while index < len(nums):\n",
    "            number = nums[index]\n",
    "            if number == index:\n",
    "                index+=1\n",
    "                continue\n",
    "            if nums[number] == number :\n",
    "                return number\n",
    "            \n",
    "            temp = nums[number]\n",
    "            nums[number] = number\n",
    "            nums[index] = temp\n",
    "        return -1"
   ]
  },
  {
   "cell_type": "code",
   "execution_count": null,
   "metadata": {},
   "outputs": [],
   "source": [
    "class Solution:\n",
    "    def findRepeatNumber(self, nums: List[int]) -> int:\n",
    "        for index in range(len(nums)):\n",
    "            number = nums[index]\n",
    "            if number == index:\n",
    "                continue\n",
    "            if nums[number] == number :\n",
    "                return number\n",
    "            \n",
    "            temp = nums[number]\n",
    "            nums[number] = number\n",
    "            nums[index] = temp\n",
    "\n",
    "            if nums[index] == index :\n",
    "                return index\n",
    "\n",
    "        return -1"
   ]
  },
  {
   "cell_type": "code",
   "execution_count": null,
   "metadata": {},
   "outputs": [],
   "source": []
  },
  {
   "cell_type": "code",
   "execution_count": null,
   "metadata": {},
   "outputs": [],
   "source": []
  },
  {
   "cell_type": "code",
   "execution_count": null,
   "metadata": {},
   "outputs": [],
   "source": []
  },
  {
   "cell_type": "code",
   "execution_count": null,
   "metadata": {},
   "outputs": [],
   "source": [
    "class Solution:\n",
    "    def findRepeatNumber(self, nums: List[int]) -> int:\n",
    "        index=0\n",
    "        while index < len(nums):\n",
    "            number = nums[index]\n",
    "            if number == index:\n",
    "                index+=1\n",
    "                continue\n",
    "            if nums[number] == number :\n",
    "                return number\n",
    "            \n",
    "            temp = nums[number]\n",
    "            nums[number] = number\n",
    "            nums[index] = temp\n",
    "        return -1"
   ]
  },
  {
   "cell_type": "code",
   "execution_count": null,
   "metadata": {},
   "outputs": [],
   "source": []
  },
  {
   "cell_type": "markdown",
   "metadata": {},
   "source": [
    "#### 给定一棵二叉搜索树，请找出其中第 k 大的节点的值。"
   ]
  },
  {
   "cell_type": "code",
   "execution_count": null,
   "metadata": {},
   "outputs": [],
   "source": [
    "# Definition for a binary tree node.\n",
    "# class TreeNode:\n",
    "#     def __init__(self, x):\n",
    "#         self.val = x\n",
    "#         self.left = None\n",
    "#         self.right = None\n",
    "\n",
    "class Solution:\n",
    "\n",
    "    def __init__(self):\n",
    "        self.stack=[]\n",
    "\n",
    "\n",
    "\n",
    "    def kthLargest(self, root: TreeNode, k: int) -> int:\n",
    "        def dfs(root):\n",
    "            if root:\n",
    "                dfs(root.left)\n",
    "                self.stack.append(root.val)\n",
    "                dfs(root.right)\n",
    "        dfs(root)\n",
    "\n",
    "        return self.stack[-k]\n",
    "\n"
   ]
  },
  {
   "cell_type": "code",
   "execution_count": null,
   "metadata": {},
   "outputs": [],
   "source": []
  },
  {
   "cell_type": "markdown",
   "metadata": {},
   "source": [
    "#### 二叉树的深度"
   ]
  },
  {
   "cell_type": "code",
   "execution_count": null,
   "metadata": {},
   "outputs": [],
   "source": [
    "# Definition for a binary tree node.\n",
    "# class TreeNode:\n",
    "#     def __init__(self, x):\n",
    "#         self.val = x\n",
    "#         self.left = None\n",
    "#         self.right = None\n",
    "\n",
    "class Solution:\n",
    "    def maxDepth(self, root: TreeNode) -> int:\n",
    "        if not root: return 0\n",
    "        return max(self.maxDepth(root.left), self.maxDepth(root.right)) + 1"
   ]
  },
  {
   "cell_type": "code",
   "execution_count": null,
   "metadata": {},
   "outputs": [],
   "source": []
  },
  {
   "cell_type": "markdown",
   "metadata": {},
   "source": [
    "#### 一个长度为n-1的递增排序数组中的所有数字都是唯一的，并且每个数字都在范围0～n-1之内。在范围0～n-1内的n个数字中有且只有一个数字不在该数组中，请找出这个数字。\n",
    "\n"
   ]
  },
  {
   "cell_type": "code",
   "execution_count": null,
   "metadata": {},
   "outputs": [],
   "source": [
    "## binary search algorithm\n",
    "\n",
    "class Solution:\n",
    "    def missingNumber(self, nums: List[int]) -> int:\n",
    "\n",
    "        left_index=0\n",
    "        right_index = len(nums)-1\n",
    "        while left_index <= right_index:\n",
    "            mid_index = (left_index+right_index)//2    \n",
    "            if nums[mid_index] == mid_index:\n",
    "                left_index = mid_index+1\n",
    "            else:\n",
    "                right_index = mid_index-1\n",
    "                \n",
    "        return left_index\n"
   ]
  },
  {
   "cell_type": "markdown",
   "metadata": {},
   "source": [
    "#### 等差数列法"
   ]
  },
  {
   "cell_type": "code",
   "execution_count": null,
   "metadata": {},
   "outputs": [],
   "source": [
    "# Sn=n(a1+an)/2\n",
    "\n",
    "class Solution:\n",
    "    def missingNumber(self, nums: List[int]) -> int:\n",
    "\n",
    "        ori_all = len(nums)*(1+len(nums))/2\n",
    "        sum_arr = sum(nums)\n",
    "        \n",
    "        return int(ori_all - sum_arr  ) \n"
   ]
  },
  {
   "cell_type": "code",
   "execution_count": null,
   "metadata": {},
   "outputs": [],
   "source": []
  },
  {
   "cell_type": "markdown",
   "metadata": {},
   "source": [
    "#### 在一个 n * m 的二维数组中，每一行都按照从左到右递增的顺序排序，每一列都按照从上到下递增的顺序排序。请完成一个高效的函数，输入这样的一个二维数组和一个整数，判断数组中是否含有该整数。\n"
   ]
  },
  {
   "cell_type": "code",
   "execution_count": null,
   "metadata": {},
   "outputs": [],
   "source": [
    "## 暴力， 但是没有利用题目给出的条件\n",
    "\n",
    "## 旋转矩阵   从对角线开始找。\n",
    "\n",
    "class Solution:\n",
    "    def findNumberIn2DArray(self, matrix: List[List[int]], target: int) -> bool:\n",
    "        if not matrix: return False\n",
    "        if matrix==[[]]: return False\n",
    "        n = 0\n",
    "        m = len(matrix[0]) - 1\n",
    "\n",
    "        while n <= len(matrix) - 1 and m >= 0:\n",
    "\n",
    "            if matrix[n][m] > target:\n",
    "                m=m-1\n",
    "            elif matrix[n][m] < target:\n",
    "                n=n+1\n",
    "            else:\n",
    "                return True\n",
    "\n",
    "        return False\n"
   ]
  },
  {
   "cell_type": "markdown",
   "metadata": {},
   "source": [
    "#### 把一个数组最开始的若干个元素搬到数组的末尾，我们称之为数组的旋转。\n",
    "\n",
    "给你一个可能存在 重复 元素值的数组 numbers ，它原来是一个升序排列的数组，并按上述情形进行了一次旋转。请返回旋转数组的最小元素。例如，数组 [3,4,5,1,2] 为 [1,2,3,4,5] 的一次旋转，该数组的最小值为1。\n"
   ]
  },
  {
   "cell_type": "code",
   "execution_count": null,
   "metadata": {},
   "outputs": [],
   "source": [
    "class Solution:\n",
    "    def minArray(self, numbers: List[int]) -> int:\n",
    "        left_index = 0\n",
    "        right_index = len(numbers)-1\n",
    "        while left_index < right_index:\n",
    "\n",
    "            mid_index = (left_index+right_index)//2\n",
    "            if numbers[mid_index] > numbers[right_index]:\n",
    "                left_index = mid_index+1\n",
    "            elif numbers[mid_index] < numbers[right_index]:\n",
    "                right_index = mid_index\n",
    "            else:\n",
    "                right_index = right_index - 1\n",
    "\n",
    "        return numbers[left_index]"
   ]
  },
  {
   "cell_type": "code",
   "execution_count": null,
   "metadata": {},
   "outputs": [],
   "source": []
  },
  {
   "cell_type": "markdown",
   "metadata": {},
   "source": [
    "#### 在字符串 s 中找出第一个只出现一次的字符。如果没有，返回一个单空格。 s 只包含小写字母。\n",
    "Method 1: 遍历两次字典\n"
   ]
  },
  {
   "cell_type": "code",
   "execution_count": 3,
   "metadata": {},
   "outputs": [],
   "source": [
    "### 为什么Python 3.6以后字典有序并且效率更高？\n",
    "### 操作内存的方式不同"
   ]
  },
  {
   "cell_type": "markdown",
   "metadata": {},
   "source": [
    "#### 从上到下打印出二叉树的每个节点，同一层的节点按照从左到右的顺序打印。\n",
    "\n"
   ]
  },
  {
   "cell_type": "code",
   "execution_count": null,
   "metadata": {},
   "outputs": [],
   "source": [
    "\n",
    "### BFS \n",
    "\n",
    "# Definition for a binary tree node.\n",
    "# class TreeNode:\n",
    "#     def __init__(self, x):\n",
    "#         self.val = x\n",
    "#         self.left = None\n",
    "#         self.right = None\n",
    "\n",
    "class Solution:\n",
    "    def levelOrder(self, root: TreeNode) -> List[int]:\n",
    "        stacka=[]\n",
    "        stackb=[]\n",
    "        arr=[]\n",
    "        if not root: return []\n",
    "        stacka.append(root)\n",
    "        while stacka:\n",
    "            if stackb==[]:\n",
    "                while stacka:\n",
    "                    stackb.append(stacka.pop())\n",
    "            while stackb:\n",
    "                node = stackb.pop()\n",
    "                arr.append(node.val)\n",
    "                if node.left:\n",
    "                    stacka.append(node.left)\n",
    "                if node.right:\n",
    "                    stacka.append(node.right)\n",
    "\n",
    "        return arr\n",
    "\n"
   ]
  },
  {
   "cell_type": "markdown",
   "metadata": {},
   "source": [
    "#### 从上到下打印二叉树 II\n",
    "从上到下按层打印二叉树，同一层的节点按从左到右的顺序打印，每一层打印到一行"
   ]
  },
  {
   "cell_type": "code",
   "execution_count": null,
   "metadata": {},
   "outputs": [],
   "source": [
    "# Definition for a binary tree node.\n",
    "# class TreeNode:\n",
    "#     def __init__(self, x):\n",
    "#         self.val = x\n",
    "#         self.left = None\n",
    "#         self.right = None\n",
    "\n",
    "\n",
    "class Solution:\n",
    "    def levelOrder(self, root: TreeNode) -> List[int]:\n",
    "        stacka=[]\n",
    "        stackb=[]\n",
    "        arr=[]\n",
    "        if not root: return []\n",
    "        stacka.append(root)\n",
    "        while stacka:\n",
    "            arr_sub=[]\n",
    "            if stackb==[]:\n",
    "                while stacka:\n",
    "                    stackb.append(stacka.pop())\n",
    "            while stackb:\n",
    "                node = stackb.pop()\n",
    "                arr_sub.append(node.val)\n",
    "                if node.left:\n",
    "                    stacka.append(node.left)\n",
    "                if node.right:\n",
    "                    stacka.append(node.right)\n",
    "            arr.append(arr_sub)\n",
    "\n",
    "        return arr"
   ]
  },
  {
   "cell_type": "code",
   "execution_count": null,
   "metadata": {},
   "outputs": [],
   "source": [
    "#### 双端队列， 解决奇偶层不同的顺序打印\n",
    "\n",
    "#### 另一种解法， 奇数层打一遍， 偶数层打一遍。 \n",
    "\n",
    "#### 倒序\n",
    "\n",
    "# Definition for a binary tree node.\n",
    "# class TreeNode:\n",
    "#     def __init__(self, x):\n",
    "#         self.val = x\n",
    "#         self.left = None\n",
    "#         self.right = None\n",
    "\n",
    "\n",
    "class Solution:\n",
    "    def levelOrder(self, root: TreeNode) -> List[int]:\n",
    "        if not root: return []\n",
    "        queue=[]\n",
    "        queue.append(root)\n",
    "        arr = []\n",
    "        flag=0\n",
    "        while queue:\n",
    "            temp = []\n",
    "            for _ in range(len(queue)):\n",
    "                node = queue.pop(0)\n",
    "                \n",
    "                if len(arr)%2==0:\n",
    "                    temp.append(node.val)\n",
    "                else:\n",
    "                    temp.insert(0,node.val)\n",
    "                if node.left:\n",
    "                    queue.append(node.left)\n",
    "                if node.right:\n",
    "                    queue.append(node.right)\n",
    "\n",
    "            arr.append(temp)\n",
    "\n",
    "        return arr"
   ]
  },
  {
   "cell_type": "code",
   "execution_count": null,
   "metadata": {},
   "outputs": [],
   "source": [
    "# Definition for a binary tree node.\n",
    "# class TreeNode:\n",
    "#     def __init__(self, x):\n",
    "#         self.val = x\n",
    "#         self.left = None\n",
    "#         self.right = None\n",
    "\n",
    "\n",
    "class Solution:\n",
    "    def levelOrder(self, root: TreeNode) -> List[int]:\n",
    "        if not root: return []\n",
    "        queue=[]\n",
    "        queue.append(root)\n",
    "        arr = []\n",
    "        flag=0\n",
    "        while queue:\n",
    "            temp = []\n",
    "            for _ in range(len(queue)):\n",
    "                node = queue.pop(0)\n",
    "                temp.append(node.val)\n",
    "                if node.left:\n",
    "                    queue.append(node.left)\n",
    "                if node.right:\n",
    "                    queue.append(node.right)\n",
    "\n",
    "            arr.append(temp)\n",
    "            if not queue: break\n",
    "            \n",
    "            temp = []\n",
    "            for _ in range(len(queue)):\n",
    "                node = queue.pop()\n",
    "                temp.append(node.val)\n",
    "                if node.right:\n",
    "                    queue.insert(0, node.right)\n",
    "                if node.left:\n",
    "                    queue.insert(0, node.left)\n",
    "\n",
    "\n",
    "            arr.append(temp)\n",
    "\n",
    "        return arr"
   ]
  },
  {
   "cell_type": "code",
   "execution_count": null,
   "metadata": {},
   "outputs": [],
   "source": [
    "### dfs\n",
    "\n",
    "class Solution:\n",
    "    def levelOrder(self, root: TreeNode) -> List[int]:\n",
    "        stack=[]\n",
    "        stack.append(root)\n",
    "        arr = []\n",
    "        if not root: return []\n",
    "        while stack:\n",
    "            node = stack.pop()\n",
    "            arr.append(node.val)\n",
    "\n",
    "            if node.right:\n",
    "                stack.append(node.right)\n",
    "            if node.left:\n",
    "                stack.append(node.left)\n",
    "        return arr"
   ]
  },
  {
   "cell_type": "code",
   "execution_count": null,
   "metadata": {},
   "outputs": [],
   "source": []
  },
  {
   "cell_type": "code",
   "execution_count": 6,
   "metadata": {},
   "outputs": [
    {
     "data": {
      "text/plain": [
       "False"
      ]
     },
     "execution_count": 6,
     "metadata": {},
     "output_type": "execute_result"
    }
   ],
   "source": [
    "bool(None and 1)"
   ]
  },
  {
   "cell_type": "code",
   "execution_count": null,
   "metadata": {},
   "outputs": [],
   "source": [
    "### 子结构可以是一部分，即中间的一段，上有父节点下有子节点；而子树定义就比较严格了，必须是从某一节点到叶子节点才行。\n",
    "### 子串（必须连续）和子序列（可以不连续"
   ]
  },
  {
   "cell_type": "markdown",
   "metadata": {},
   "source": [
    "#### 输入两棵二叉树A和B，判断B是不是A的子结构。(约定空树不是任意一个树的子结构)\n",
    "\n",
    "B是A的子结构， 即 A中有出现和B相同的结构和节点值。"
   ]
  },
  {
   "cell_type": "code",
   "execution_count": null,
   "metadata": {},
   "outputs": [],
   "source": [
    "### 找到B root在 A中的位置。 \n",
    "### 找到后开始判断是否是子树\n",
    "### 子树的条件， b空了，则找到了，   a空了则没找到，   值不同则没找到。\n",
    "\n",
    "# Definition for a binary tree node.\n",
    "# class TreeNode:\n",
    "#     def __init__(self, x):\n",
    "#         self.val = x\n",
    "#         self.left = None\n",
    "#         self.right = None\n",
    "#\n",
    "\n",
    "\n",
    "class Solution:\n",
    "    def isSubStructure(self, A: TreeNode, B: TreeNode) -> bool:\n",
    "        def find_ab(a,b):\n",
    "            if not b: return True\n",
    "            if not a or a.val != b.val: return False\n",
    "            return find_ab(a.left,b.left) and find_ab(a.right,b.right)\n",
    "        return bool(A and B) and (find_ab(A,B) or self.isSubStructure(A.left,B) or self.isSubStructure(A.right,B))"
   ]
  }
 ],
 "metadata": {
  "kernelspec": {
   "display_name": "Python 3",
   "language": "python",
   "name": "python3"
  },
  "language_info": {
   "codemirror_mode": {
    "name": "ipython",
    "version": 3
   },
   "file_extension": ".py",
   "mimetype": "text/x-python",
   "name": "python",
   "nbconvert_exporter": "python",
   "pygments_lexer": "ipython3",
   "version": "3.8.5"
  }
 },
 "nbformat": 4,
 "nbformat_minor": 4
}
