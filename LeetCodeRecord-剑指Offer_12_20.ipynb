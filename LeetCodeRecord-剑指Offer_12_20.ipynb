{
 "cells": [
  {
   "cell_type": "markdown",
   "metadata": {},
   "source": [
    "输入一个整数数组，实现一个函数来调整该数组中数字的顺序，使得所有奇数在数组的前半部分，所有偶数在数组的后半部分。\n",
    "\n"
   ]
  },
  {
   "cell_type": "code",
   "execution_count": null,
   "metadata": {},
   "outputs": [],
   "source": [
    "class Solution:\n",
    "    def exchange(self, nums: List[int]) -> List[int]:\n",
    "        i=0\n",
    "        j=len(nums)-1\n",
    "        while i<j:\n",
    "            while i < j and nums[i]%2 == 1: i+=1\n",
    "            while i < j and nums[j]%2 == 0: j-=1\n",
    "            temp = nums[i]\n",
    "            nums[i] = nums[j]\n",
    "            nums[j] = temp\n",
    "        return nums"
   ]
  },
  {
   "cell_type": "code",
   "execution_count": null,
   "metadata": {},
   "outputs": [],
   "source": []
  },
  {
   "cell_type": "markdown",
   "metadata": {},
   "source": [
    "输入一个递增排序的数组和一个数字s，在数组中查找两个数，使得它们的和正好是s。如果有多对数字的和等于s，则输出任意一对即可。\n",
    "\n"
   ]
  },
  {
   "cell_type": "code",
   "execution_count": null,
   "metadata": {},
   "outputs": [],
   "source": [
    "# class Solution:\n",
    "#     def twoSum(self, nums: List[int], target: int) -> List[int]:\n",
    "#         dic={}\n",
    "#         for i in nums:\n",
    "#             number = dic.get(i,-1)\n",
    "#             if number != -1 :\n",
    "#                 return [i,dic[i]]\n",
    "#             dic[target-i] = i\n",
    "#         return None\n",
    "\n",
    "class Solution:\n",
    "    def twoSum(self, nums: List[int], target: int) -> List[int]:\n",
    "        i = 0\n",
    "        j=len(nums)-1\n",
    "\n",
    "        while i<j:\n",
    "            sumn = nums[i]+nums[j]\n",
    "            if sumn > target:\n",
    "                j-=1\n",
    "            elif sumn < target:\n",
    "                i+=1\n",
    "            else:\n",
    "                return [nums[i],nums[j]]\n",
    "        return None"
   ]
  },
  {
   "cell_type": "code",
   "execution_count": null,
   "metadata": {},
   "outputs": [],
   "source": []
  },
  {
   "cell_type": "markdown",
   "metadata": {},
   "source": [
    "#### 输入一个英文句子，翻转句子中单词的顺序，但单词内字符的顺序不变。为简单起见，标点符号和普通字母一样处理。例如输入字符串\"I am a student. \"，则输出\"student. a am I\"\n"
   ]
  },
  {
   "cell_type": "code",
   "execution_count": 66,
   "metadata": {},
   "outputs": [
    {
     "name": "stdout",
     "output_type": "stream",
     "text": [
      "world! hello\n"
     ]
    }
   ],
   "source": [
    "class Solution:\n",
    "    def reverseWords(self, s: str) -> str:\n",
    "        if s=='':\n",
    "            return ''\n",
    "\n",
    "        arr=[]\n",
    "        string = ''\n",
    "        for i in s:\n",
    "            if i!=' ':\n",
    "                string+=i\n",
    "            else:\n",
    "                if string=='':\n",
    "                    continue\n",
    "                arr.append(string)\n",
    "                string=''\n",
    "\n",
    "        if string!='':            \n",
    "            arr.append(string)\n",
    "        if not arr:\n",
    "            return ''\n",
    "        string=arr.pop()\n",
    "        while arr:\n",
    "            \n",
    "            string+=\" \"+arr.pop()\n",
    "\n",
    "        return string"
   ]
  },
  {
   "cell_type": "code",
   "execution_count": 69,
   "metadata": {},
   "outputs": [
    {
     "data": {
      "text/plain": [
       "['world!', 'hello', '12', '4']"
      ]
     },
     "execution_count": 69,
     "metadata": {},
     "output_type": "execute_result"
    }
   ],
   "source": [
    "s='world! hello 12 4'\n",
    "s.split()"
   ]
  },
  {
   "cell_type": "code",
   "execution_count": 70,
   "metadata": {},
   "outputs": [
    {
     "data": {
      "text/plain": [
       "['4', '12', 'hello', 'world!']"
      ]
     },
     "execution_count": 70,
     "metadata": {},
     "output_type": "execute_result"
    }
   ],
   "source": [
    "s.split()[::-1]"
   ]
  },
  {
   "cell_type": "code",
   "execution_count": 74,
   "metadata": {},
   "outputs": [
    {
     "data": {
      "text/plain": [
       "['world!', '12']"
      ]
     },
     "execution_count": 74,
     "metadata": {},
     "output_type": "execute_result"
    }
   ],
   "source": [
    "s.split()[::2]"
   ]
  },
  {
   "cell_type": "markdown",
   "metadata": {},
   "source": [
    "### <font color=red>给定一个 m x n 二维字符网格 board 和一个字符串单词 word 。如果 word 存在于网格中，返回 true ；否则，返回 false 。 </font>\n",
    "\n",
    "单词必须按照字母顺序，通过相邻的单元格内的字母构成，其中“相邻”单元格是那些水平相邻或垂直相邻的单元格。同一个单元格内的字母不允许被重复使用\n"
   ]
  },
  {
   "cell_type": "code",
   "execution_count": null,
   "metadata": {},
   "outputs": [],
   "source": [
    "# DFS 递归， 访问过的位置记录为 ‘’，  递归完成后， 还原‘’。\n",
    "\n",
    "class Solution:\n",
    "    def exist(self, board: List[List[str]], word: str) -> bool:\n",
    "\n",
    "        def dfs(i,j,k):\n",
    "            if not 0<=i<len(board) or  not 0<=j<len(board[0]) or board[i][j] != word[k]:\n",
    "                return False\n",
    "            if k==len(word)-1:\n",
    "                return True\n",
    "            board[i][j]=''\n",
    "\n",
    "            res = dfs(i + 1, j, k + 1) or dfs(i - 1, j, k + 1) or dfs(i, j + 1, k + 1) or dfs(i, j - 1, k + 1)\n",
    "            board[i][j] = word[k]\n",
    "            return res\n",
    "\n",
    "        for i in range(len(board)):\n",
    "            for j in range(len(board[0])):\n",
    "                if dfs(i, j, 0): return True\n",
    "            \n",
    "        return False"
   ]
  },
  {
   "cell_type": "markdown",
   "metadata": {},
   "source": [
    "####  地上有一个m行n列的方格，从坐标 [0,0] 到坐标 [m-1,n-1] 。一个机器人从坐标 [0, 0] 的格子开始移动，它每次可以向左、右、上、下移动一格（不能移动到方格外），也不能进入行坐标和列坐标的数位之和大于k的格子。例如，当k为18时，机器人能够进入方格 [35, 37] ，因为3+5+3+7=18。但它不能进入方格 [35, 38]，因为3+5+3+8=19。请问该机器人能够到达多少个格子？\n"
   ]
  },
  {
   "cell_type": "code",
   "execution_count": 1,
   "metadata": {},
   "outputs": [],
   "source": [
    "def sumx(x):\n",
    "    sumx = x%10\n",
    "    x = x//10\n",
    "    while x>9:\n",
    "        sumx += x%10\n",
    "        x = x//10\n",
    "    sumx +=x\n",
    "    return sumx"
   ]
  },
  {
   "cell_type": "code",
   "execution_count": 14,
   "metadata": {},
   "outputs": [
    {
     "data": {
      "text/plain": [
       "False"
      ]
     },
     "execution_count": 14,
     "metadata": {},
     "output_type": "execute_result"
    }
   ],
   "source": [
    "# DFS\n",
    "\n",
    "class Solution:\n",
    "    def movingCount(self, m: int, n: int, k: int) -> int:\n",
    "        dic = {}\n",
    "        def sumx(x):\n",
    "            sumx = x%10\n",
    "            x = x//10\n",
    "            while x>9:\n",
    "                sumx += x%10\n",
    "                x = x//10\n",
    "            sumx +=x\n",
    "            return sumx\n",
    "\n",
    "        def dfs(i,j):\n",
    "            if not 0<=i<m or not 0<=j<n or (sumx(i)+sumx(j)) > k : return False\n",
    "            if (i,j) in dic:\n",
    "                return False\n",
    "            dic[(i,j)]=1\n",
    "            return dfs(i + 1, j) or dfs(i, j + 1)\n",
    "        dfs(0,0)\n",
    "        return len(dic)"
   ]
  },
  {
   "cell_type": "code",
   "execution_count": null,
   "metadata": {},
   "outputs": [],
   "source": [
    "## BFS\n",
    "\n",
    "class Solution:\n",
    "    def movingCount(self, m: int, n: int, k: int) -> int:\n",
    "        dic = {}\n",
    "        def sumx(x):\n",
    "            sumx = x%10\n",
    "            x = x//10\n",
    "            while x>9:\n",
    "                sumx += x%10\n",
    "                x = x//10\n",
    "            sumx +=x\n",
    "            return sumx\n",
    "        i=0\n",
    "        j=0\n",
    "        stack=[]\n",
    "        stack.append((0,0))\n",
    "        while stack:\n",
    "            i,j = stack.pop()\n",
    "            if not 0<=i<m or not 0<=j<n or (sumx(i)+sumx(j)) > k :\n",
    "                continue\n",
    "            if (i,j) in dic:\n",
    "                continue\n",
    "            dic[i,j]=1\n",
    "            stack.append((i+1,j))\n",
    "            stack.append((i,j+1))\n",
    "\n",
    "\n",
    "        return len(dic)\n"
   ]
  },
  {
   "cell_type": "code",
   "execution_count": null,
   "metadata": {},
   "outputs": [],
   "source": []
  },
  {
   "cell_type": "markdown",
   "metadata": {},
   "source": [
    "#### 给你二叉树的根节点 root 和一个整数目标和 targetSum ，找出所有 从根节点到叶子节点 路径总和等于给定目标和的路径。\n",
    "\n",
    "叶子节点 是指没有子节点的节点。\n",
    "\n"
   ]
  },
  {
   "cell_type": "code",
   "execution_count": null,
   "metadata": {},
   "outputs": [],
   "source": [
    "### BFS\n",
    "\n",
    "# Definition for a binary tree node.\n",
    "# class TreeNode:\n",
    "#     def __init__(self, val=0, left=None, right=None):\n",
    "#         self.val = val\n",
    "#         self.left = left\n",
    "#         self.right = right\n",
    "class Solution:\n",
    "    def pathSum(self, root: TreeNode, target: int) -> List[List[int]]:\n",
    "\n",
    "        if not root: return []\n",
    "        stack = []\n",
    "        path = []\n",
    "        return_v = []\n",
    "        value = 0\n",
    "        stack.append((root,path,value))\n",
    "        while stack:\n",
    "            node, subpath, value = stack.pop()\n",
    "            value += node.val\n",
    "            subpath.append(node.val)\n",
    "            if node.left:\n",
    "                stack.append((node.left, list(subpath) ,value))\n",
    "            if node.right:\n",
    "                stack.append((node.right, list(subpath) ,value))\n",
    "\n",
    "            if value == target and not node.left and not node.right:\n",
    "                return_v.append(subpath)\n",
    "\n",
    "        return return_v"
   ]
  },
  {
   "cell_type": "code",
   "execution_count": null,
   "metadata": {},
   "outputs": [],
   "source": [
    "\n",
    "### DFS\n",
    "\n",
    "# Definition for a binary tree node.\n",
    "# class TreeNode:\n",
    "#     def __init__(self, val=0, left=None, right=None):\n",
    "#         self.val = val\n",
    "#         self.left = left\n",
    "#         self.right = right\n",
    "class Solution:\n",
    "    def pathSum(self, root: TreeNode, target: int) -> List[List[int]]:\n",
    "\n",
    "        path = []\n",
    "        return_v = []\n",
    "        def dfs(node, value):\n",
    "            if not node:\n",
    "                return False\n",
    "\n",
    "            path.append(node.val)\n",
    "\n",
    "            if not node.left and not node.right and value == node.val:\n",
    "                return_v.append(list(path))\n",
    "                \n",
    "            dfs(node.left, value - node.val)\n",
    "            dfs(node.right, value - node.val)\n",
    "            path.pop()\n",
    "        dfs(root,target)\n",
    "\n",
    "        return return_v\n"
   ]
  },
  {
   "cell_type": "code",
   "execution_count": null,
   "metadata": {},
   "outputs": [],
   "source": []
  },
  {
   "cell_type": "markdown",
   "metadata": {},
   "source": [
    "#### 输入一棵二叉搜索树，将该二叉搜索树转换成一个排序的循环双向链表。要求不能创建任何新的节点，只能调整树中节点指针的指向。"
   ]
  },
  {
   "cell_type": "code",
   "execution_count": null,
   "metadata": {},
   "outputs": [],
   "source": [
    "\"\"\"\n",
    "# Definition for a Node.\n",
    "class Node:\n",
    "    def __init__(self, val, left=None, right=None):\n",
    "        self.val = val\n",
    "        self.left = left\n",
    "        self.right = right\n",
    "\"\"\"\n",
    "class Solution:\n",
    "    def treeToDoublyList(self, root: 'Node') -> 'Node':\n",
    "\n",
    "        if not root: return\n",
    "        self.pre , self.head = None, None\n",
    "\n",
    "        def dfs(node):\n",
    "            if not node:\n",
    "                return None\n",
    "            \n",
    "            dfs(node.left)\n",
    "            if self.pre == None:\n",
    "                self.head = node\n",
    "                self.pre = node\n",
    "            else:\n",
    "                node.left = self.pre\n",
    "                self.pre.right = node\n",
    "                self.pre = node\n",
    "\n",
    "            dfs(node.right)\n",
    "\n",
    "        dfs(root)\n",
    "        self.head.left = self.pre\n",
    "        self.pre.right = self.head\n",
    "        return self.head"
   ]
  },
  {
   "cell_type": "code",
   "execution_count": null,
   "metadata": {},
   "outputs": [],
   "source": []
  },
  {
   "cell_type": "code",
   "execution_count": null,
   "metadata": {},
   "outputs": [],
   "source": []
  },
  {
   "cell_type": "markdown",
   "metadata": {},
   "source": [
    "#### 给定一棵二叉搜索树，请找出其中第 k 大的节点的值。\n",
    "\n"
   ]
  },
  {
   "cell_type": "code",
   "execution_count": null,
   "metadata": {},
   "outputs": [],
   "source": [
    "\n",
    "### DFS\n",
    "\n",
    "# Definition for a binary tree node.\n",
    "# class TreeNode:\n",
    "#     def __init__(self, x):\n",
    "#         self.val = x\n",
    "#         self.left = None\n",
    "#         self.right = None\n",
    "\n",
    "class Solution:\n",
    "\n",
    "    def __init__(self):\n",
    "        self.stack=[]\n",
    "\n",
    "\n",
    "\n",
    "    def kthLargest(self, root: TreeNode, k: int) -> int:\n",
    "        def dfs(root):\n",
    "            if root:\n",
    "                dfs(root.left)\n",
    "                self.stack.append(root.val)\n",
    "                dfs(root.right)\n",
    "        dfs(root)\n",
    "\n",
    "        return self.stack[-k]"
   ]
  },
  {
   "cell_type": "code",
   "execution_count": null,
   "metadata": {},
   "outputs": [],
   "source": []
  },
  {
   "cell_type": "code",
   "execution_count": null,
   "metadata": {},
   "outputs": [],
   "source": []
  },
  {
   "cell_type": "markdown",
   "metadata": {},
   "source": [
    "####  <font color=red>先i自加的话最终i与j会停留在比l大的元素上</font>\n"
   ]
  },
  {
   "cell_type": "code",
   "execution_count": 28,
   "metadata": {},
   "outputs": [
    {
     "name": "stdout",
     "output_type": "stream",
     "text": [
      "[5, 7, 8, 9, 1, 10]\n",
      "[8, 1, 5, 9, 7, 10]\n",
      "[1, 8, 5, 9, 7, 10]\n",
      "[1, 8, 5, 7, 9, 10]\n"
     ]
    }
   ],
   "source": [
    "arr= [ 10, 7, 8, 9, 1, 5 ]\n",
    "\n",
    "def quick_sort(left,right):\n",
    "    if left >=right: return\n",
    "    i,j = left, right\n",
    "    pivot  =  arr[left]\n",
    "    while i < j:\n",
    "        \n",
    "        while i < j and arr[i] <= pivot: i += 1\n",
    "        while i < j and arr[j] >= pivot: j -= 1\n",
    "            \n",
    "        arr[i], arr[j] = arr[j], arr[i]\n",
    "    arr[i],arr[left] = arr[left],arr[i]\n",
    "    \n",
    "    print(arr)\n",
    "    quick_sort(left,i-1)\n",
    "    quick_sort(i+1,right)\n",
    "    \n",
    "\n",
    "quick_sort(0,len(arr)-1)\n",
    "    "
   ]
  },
  {
   "cell_type": "code",
   "execution_count": 27,
   "metadata": {},
   "outputs": [
    {
     "name": "stdout",
     "output_type": "stream",
     "text": [
      "[5, 7, 8, 9, 1, 10]\n",
      "[1, 5, 8, 9, 7, 10]\n",
      "[1, 5, 7, 8, 9, 10]\n"
     ]
    }
   ],
   "source": [
    "\n",
    "arr= [ 10, 7, 8, 9, 1, 5 ]\n",
    "\n",
    "def quick_sort(left,right):\n",
    "    if left >=right: return\n",
    "    i,j = left, right\n",
    "    pivot  =  arr[left]\n",
    "    while i < j:\n",
    "        \n",
    "        \n",
    "        while i < j and arr[j] >= pivot: j -= 1\n",
    "        while i < j and arr[i] <= pivot: i += 1\n",
    "            \n",
    "        arr[i], arr[j] = arr[j], arr[i]\n",
    "    arr[i],arr[left] = arr[left],arr[i]\n",
    "    \n",
    "    print(arr)\n",
    "    quick_sort(left,i-1)\n",
    "    quick_sort(i+1,right)\n",
    "    \n",
    "\n",
    "quick_sort(0,len(arr)-1)\n",
    "    "
   ]
  },
  {
   "cell_type": "markdown",
   "metadata": {},
   "source": [
    "#### 输入一个非负整数数组，把数组里所有数字拼接起来排成一个数，打印能拼接出的所有数字中最小的一个。\n",
    "\n"
   ]
  },
  {
   "cell_type": "code",
   "execution_count": null,
   "metadata": {},
   "outputs": [],
   "source": [
    "class Solution:\n",
    "    def minNumber(self, nums: List[int]) -> str:\n",
    "\n",
    "        def quickSort(left ,right):\n",
    "            \n",
    "            if left>=right: return\n",
    "            i,j=left ,right\n",
    "            while i<j:\n",
    "                \n",
    "                while  strs[j] + strs[left] >= strs[left]+ (strs[j]) and i<j: j-=1\n",
    "                while  strs[i] + strs[left] <= strs[left]+ (strs[i]) and i<j: i+=1\n",
    "\n",
    "                strs[i],strs[j] = strs[j],strs[i]\n",
    "            strs[i],strs[left] = strs[left],strs[i]\n",
    "\n",
    "            quickSort(left,i-1)\n",
    "            quickSort(i+1,right)\n",
    "        \n",
    "        strs=[str(i) for i in nums]\n",
    "        quickSort(0, len(strs) - 1)\n",
    "\n",
    "        \n",
    "        return ''.join(strs)"
   ]
  },
  {
   "cell_type": "code",
   "execution_count": null,
   "metadata": {},
   "outputs": [],
   "source": []
  },
  {
   "cell_type": "markdown",
   "metadata": {},
   "source": [
    "#### 从若干副扑克牌中随机抽 5 张牌，判断是不是一个顺子，即这5张牌是不是连续的。2～10为数字本身，A为1，J为11，Q为12，K为13，而大、小王为 0 ，可以看成任意数字。A 不能视为 14。\n"
   ]
  },
  {
   "cell_type": "code",
   "execution_count": null,
   "metadata": {},
   "outputs": [],
   "source": [
    "class Solution:\n",
    "    def isStraight(self, nums: List[int]) -> bool:\n",
    "        maxn=0\n",
    "        minn=14\n",
    "        arr=[]\n",
    "        for i in nums:\n",
    "            if i==0:\n",
    "                continue\n",
    "            else:\n",
    "                if i in arr:\n",
    "                    return False\n",
    "                else:\n",
    "                    arr.append(i)\n",
    "                    if i > maxn:\n",
    "                        maxn = i\n",
    "                    if i < minn:\n",
    "                        minn = i\n",
    "\n",
    "        if maxn - minn < 5:\n",
    "            return True\n",
    "        else:\n",
    "            return False"
   ]
  },
  {
   "cell_type": "code",
   "execution_count": null,
   "metadata": {},
   "outputs": [],
   "source": []
  },
  {
   "cell_type": "code",
   "execution_count": null,
   "metadata": {},
   "outputs": [],
   "source": [
    "### 完全二叉树"
   ]
  },
  {
   "cell_type": "code",
   "execution_count": 43,
   "metadata": {},
   "outputs": [],
   "source": [
    "from heapq import *\n",
    "arr=[1]\n",
    "## 小顶堆\n",
    "heappush(arr, 2)\n",
    "heappush(arr, 0)\n",
    "\n",
    "# 存负数 转为 大顶堆"
   ]
  },
  {
   "cell_type": "code",
   "execution_count": 42,
   "metadata": {},
   "outputs": [
    {
     "data": {
      "text/plain": [
       "-2"
      ]
     },
     "execution_count": 42,
     "metadata": {},
     "output_type": "execute_result"
    }
   ],
   "source": [
    "heappop(arr)"
   ]
  },
  {
   "cell_type": "markdown",
   "metadata": {},
   "source": [
    "#### 如何得到一个数据流中的中位数？如果从数据流中读出奇数个数值，那么中位数就是所有数值排序之后位于中间的数值。如果从数据流中读出偶数个数值，那么中位数就是所有数值排序之后中间两个数的平均值\n"
   ]
  },
  {
   "cell_type": "code",
   "execution_count": null,
   "metadata": {},
   "outputs": [],
   "source": [
    "\n",
    "# 小顶堆 arrs 存大数  和 大顶堆 arrl 存小数， 这样pop的时候都是 中间的数， 大中间的小数，  小数中间的大数\n",
    "\n",
    "from heapq import *\n",
    "\n",
    "class MedianFinder:\n",
    "\n",
    "    def __init__(self):\n",
    "        \"\"\"\n",
    "        initialize your data structure here.\n",
    "        \"\"\"\n",
    "        self.arrl=[]\n",
    "        self.arrs=[]\n",
    "\n",
    "    def addNum(self, num: int) -> None:\n",
    "        if len(self.arrl ) != len(self.arrs):\n",
    "            heappush(self.arrs, num)\n",
    "            heappush(self.arrl, -heappop(self.arrs))\n",
    "        else:\n",
    "            heappush(self.arrl, -num)\n",
    "            heappush(self.arrs, -heappop(self.arrl))\n",
    "\n",
    "\n",
    "    def findMedian(self) -> float:\n",
    "        if len(self.arrl ) != len(self.arrs):\n",
    "            return self.arrs[0]\n",
    "        else:\n",
    "            return (self.arrs[0]+(-self.arrl[0]))/2\n",
    "\n",
    "\n",
    "# Your MedianFinder object will be instantiated and called as such:\n",
    "# obj = MedianFinder()\n",
    "# obj.addNum(num)\n",
    "# param_2 = obj.findMedian()\n",
    "\n"
   ]
  },
  {
   "cell_type": "code",
   "execution_count": null,
   "metadata": {},
   "outputs": [],
   "source": []
  },
  {
   "cell_type": "markdown",
   "metadata": {},
   "source": [
    "#### 二叉树的深度"
   ]
  },
  {
   "cell_type": "code",
   "execution_count": null,
   "metadata": {},
   "outputs": [],
   "source": [
    "# Definition for a binary tree node.\n",
    "# class TreeNode:\n",
    "#     def __init__(self, x):\n",
    "#         self.val = x\n",
    "#         self.left = None\n",
    "#         self.right = None\n",
    "\n",
    "class Solution:\n",
    "    def maxDepth(self, root: TreeNode) -> int:\n",
    "        if not root: return 0\n",
    "        return max(self.maxDepth(root.left), self.maxDepth(root.right)) + 1"
   ]
  },
  {
   "cell_type": "code",
   "execution_count": null,
   "metadata": {},
   "outputs": [],
   "source": []
  },
  {
   "cell_type": "markdown",
   "metadata": {},
   "source": [
    "#### 输入一棵二叉树的根节点，判断该树是不是平衡二叉树。如果某二叉树中任意节点的左右子树的深度相差不超过1，那么它就是一棵平衡二叉树。\n",
    "\n"
   ]
  },
  {
   "cell_type": "code",
   "execution_count": null,
   "metadata": {},
   "outputs": [],
   "source": [
    "# # Definition for a binary tree node.\n",
    "# # class TreeNode:\n",
    "# #     def __init__(self, x):\n",
    "# #         self.val = x\n",
    "# #         self.left = None\n",
    "# #         self.right = None\n",
    "class Solution:\n",
    "    def isBalanced(self, root: TreeNode) -> bool:\n",
    "\n",
    "        def depth(node):\n",
    "            if not node: return 0\n",
    "            return max(depth(node.left), depth(node.right))+1\n",
    "    \n",
    "        if not root: return True\n",
    "        return abs(depth(root.left) - depth(root.right)) <= 1 and self.isBalanced(root.left) and self.isBalanced(root.right) \n",
    "\n",
    "\n",
    "\n",
    "\n",
    "\n",
    "\n",
    "# class Solution:\n",
    "#     def isBalanced(self, root: TreeNode) -> bool:\n",
    "#         arr=[]\n",
    "#         def dfs(node):\n",
    "\n",
    "            \n",
    "\n",
    "#             if not node: return 0\n",
    "#             arr.append(node.val)\n",
    "\n",
    "#             left_num = dfs(node.left)\n",
    "\n",
    "#             if  left_num==-1: return -1\n",
    "                \n",
    "#             right_num = dfs(node.right)\n",
    "\n",
    "#             if  right_num==-1 : return -1\n",
    "\n",
    "#             if abs(left_num - right_num) > 1 : return -1\n",
    "\n",
    "#             return max(left_num,right_num)+1  \n",
    "\n",
    "        \n",
    "\n",
    "#         result = dfs(root)\n",
    "        \n",
    "        \n",
    "#         return result!= -1\n"
   ]
  },
  {
   "cell_type": "markdown",
   "metadata": {},
   "source": [
    "#### 给定一个二叉搜索树, 找到该树中两个指定节点的最近公共祖先。\n",
    "\n"
   ]
  },
  {
   "cell_type": "code",
   "execution_count": null,
   "metadata": {},
   "outputs": [],
   "source": [
    "# 对于二叉搜索树，  左边的一定小于root, 右边的一定大， 所以只需要判断两个子节点是否在root的左右，就可以判断是否在两侧。 \n",
    "# 可以改写成 while 的形式 使其变成  内存 O(1)\n",
    "# Definition for a binary tree node.\n",
    "# class TreeNode:\n",
    "#     def __init__(self, x):\n",
    "#         self.val = x\n",
    "#         self.left = None\n",
    "#         self.right = None\n",
    "\n",
    "class Solution:\n",
    "    def lowestCommonAncestor(self, root: 'TreeNode', p: 'TreeNode', q: 'TreeNode') -> 'TreeNode':\n",
    "        if p.val < root.val and q.val < root.val:\n",
    "            return self.lowestCommonAncestor(root.left,p,q)\n",
    "        if p.val > root.val and q.val > root.val:\n",
    "            return self.lowestCommonAncestor(root.right,p,q)\n",
    "        else:\n",
    "            return root"
   ]
  },
  {
   "cell_type": "markdown",
   "metadata": {},
   "source": [
    "#### <font color='red' > 给定一个二叉树, 找到该树中两个指定节点的最近公共祖先。</font>\n",
    "\n"
   ]
  },
  {
   "cell_type": "code",
   "execution_count": null,
   "metadata": {},
   "outputs": [],
   "source": []
  },
  {
   "cell_type": "code",
   "execution_count": null,
   "metadata": {},
   "outputs": [],
   "source": []
  }
 ],
 "metadata": {
  "kernelspec": {
   "display_name": "Python 3",
   "language": "python",
   "name": "python3"
  },
  "language_info": {
   "codemirror_mode": {
    "name": "ipython",
    "version": 3
   },
   "file_extension": ".py",
   "mimetype": "text/x-python",
   "name": "python",
   "nbconvert_exporter": "python",
   "pygments_lexer": "ipython3",
   "version": "3.8.5"
  }
 },
 "nbformat": 4,
 "nbformat_minor": 5
}
