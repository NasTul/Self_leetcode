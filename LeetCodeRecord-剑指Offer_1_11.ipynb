{
 "cells": [
  {
   "cell_type": "markdown",
   "metadata": {},
   "source": [
    "#### Two stack queue"
   ]
  },
  {
   "cell_type": "code",
   "execution_count": 7,
   "metadata": {},
   "outputs": [],
   "source": [
    "### use two stacks as queue\n",
    "### one input, one output"
   ]
  },
  {
   "cell_type": "code",
   "execution_count": 3,
   "metadata": {},
   "outputs": [],
   "source": [
    "class CQueue:\n",
    "    import numpy as np\n",
    "    def __init__(self):\n",
    "        self.queuein, self.queueout=[],[]\n",
    "\n",
    "    def appendTail(self, value: int) -> None:\n",
    "        self.queuein.append(value)\n",
    "\n",
    "    def deleteHead(self) -> int:\n",
    "        if self.queueout==[]:\n",
    "            while self.queuein:\n",
    "                self.queueout.append(self.queuein.pop())\n",
    "        if self.queueout==[]:\n",
    "            return -1\n",
    "        return self.queueout.pop()"
   ]
  },
  {
   "cell_type": "code",
   "execution_count": null,
   "metadata": {},
   "outputs": [],
   "source": []
  },
  {
   "cell_type": "markdown",
   "metadata": {},
   "source": [
    "#### Design a stack that supports push, pop, top, and retrieving the minimum element in constant time."
   ]
  },
  {
   "cell_type": "code",
   "execution_count": 8,
   "metadata": {},
   "outputs": [],
   "source": [
    "### two stacks, one record min, two stacks has the same size."
   ]
  },
  {
   "cell_type": "code",
   "execution_count": 2,
   "metadata": {},
   "outputs": [],
   "source": [
    "class MinStack:\n",
    "\n",
    "    def __init__(self):\n",
    "        \"\"\"\n",
    "        initialize your data structure here.\n",
    "        \"\"\"\n",
    "        self.stack=[]\n",
    "        self.minstack=[]\n",
    "    def push(self, x: int) -> None:\n",
    "        if self.stack==[] or self.minstack[-1] > x:\n",
    "            self.minstack.append(x)\n",
    "        else :\n",
    "            self.minstack.append(self.minstack[-1])\n",
    "\n",
    "        self.stack.append(x)\n",
    "\n",
    "\n",
    "    def pop(self) -> None:\n",
    "        self.stack.pop()\n",
    "        self.minstack.pop()\n",
    "\n",
    "\n",
    "    def top(self) -> int:\n",
    "        return self.stack[-1]\n",
    "\n",
    "    def min(self) -> int:\n",
    "        return self.minstack[-1]"
   ]
  },
  {
   "cell_type": "code",
   "execution_count": null,
   "metadata": {},
   "outputs": [],
   "source": []
  },
  {
   "cell_type": "markdown",
   "metadata": {},
   "source": [
    "#### Print linked list from tail."
   ]
  },
  {
   "cell_type": "code",
   "execution_count": 11,
   "metadata": {},
   "outputs": [],
   "source": [
    "### 栈存， 然后读取刀数组里"
   ]
  },
  {
   "cell_type": "code",
   "execution_count": null,
   "metadata": {},
   "outputs": [],
   "source": [
    "# Definition for singly-linked list.\n",
    "# class ListNode:\n",
    "#     def __init__(self, x):\n",
    "#         self.val = x\n",
    "#         self.next = None\n",
    "\n",
    "class Solution:\n",
    "    def reversePrint(self, head: ListNode) -> List[int]:\n",
    "        arr=[]\n",
    "        nownode=head\n",
    "        while True:\n",
    "            if nownode==None:\n",
    "                break\n",
    "            arr.append(nownode.val)\n",
    "            nownode = nownode.next\n",
    "            \n",
    "        return_arr=[]\n",
    "        while arr!=[]:\n",
    "            return_arr.append(arr.pop())\n",
    "        return return_arr"
   ]
  },
  {
   "cell_type": "code",
   "execution_count": null,
   "metadata": {},
   "outputs": [],
   "source": []
  },
  {
   "cell_type": "markdown",
   "metadata": {},
   "source": [
    "#### Given the head of a singly linked list, reverse the list, and return the reversed list."
   ]
  },
  {
   "cell_type": "code",
   "execution_count": 12,
   "metadata": {},
   "outputs": [],
   "source": [
    "### 反转单链表，打印\n",
    "### 从头向尾遍历， 直接将链接转向。"
   ]
  },
  {
   "cell_type": "code",
   "execution_count": null,
   "metadata": {},
   "outputs": [],
   "source": [
    "# Definition for singly-linked list.\n",
    "# class ListNode:\n",
    "#     def __init__(self, x):\n",
    "#         self.val = x\n",
    "#         self.next = None\n",
    "\n",
    "class Solution:\n",
    "    def reverseList(self, head: ListNode) -> ListNode:\n",
    "        curr_node = head\n",
    "        pre_node=None\n",
    "\n",
    "        while curr_node!=None:\n",
    "            next_node = curr_node.next\n",
    "            curr_node.next = pre_node\n",
    "            pre_node = curr_node\n",
    "            curr_node = next_node\n",
    "\n",
    "        return pre_node"
   ]
  },
  {
   "cell_type": "code",
   "execution_count": null,
   "metadata": {},
   "outputs": [],
   "source": [
    "\n",
    "## bad solution\n",
    "\n",
    "# # Definition for singly-linked list.\n",
    "# # class ListNode:\n",
    "# #     def __init__(self, x):\n",
    "# #         self.val = x\n",
    "# #         self.next = None\n",
    "\n",
    "# class Solution:\n",
    "#     def reverseList(self, head: ListNode) -> ListNode:\n",
    "#         temp_arr = []\n",
    "#         old_node=head\n",
    "#         while old_node !=None:\n",
    "#             temp_arr.append(old_node.val)\n",
    "#             old_node=old_node.next\n",
    "\n",
    "#         if temp_arr==[]:\n",
    "#             return None\n",
    "\n",
    "#         new_node=ListNode(temp_arr.pop())\n",
    "#         new_node.next=None\n",
    "#         new_node_head = new_node\n",
    "#         while temp_arr:\n",
    "#             temp_node=ListNode(temp_arr.pop())\n",
    "#             temp_node.next=None\n",
    "#             new_node.next=temp_node\n",
    "#             new_node = temp_node\n",
    "\n",
    "#         return new_node_head"
   ]
  },
  {
   "cell_type": "code",
   "execution_count": null,
   "metadata": {},
   "outputs": [],
   "source": []
  },
  {
   "cell_type": "code",
   "execution_count": null,
   "metadata": {},
   "outputs": [],
   "source": []
  },
  {
   "cell_type": "markdown",
   "metadata": {},
   "source": [
    "#### 复杂链表的复制"
   ]
  },
  {
   "cell_type": "code",
   "execution_count": null,
   "metadata": {},
   "outputs": [],
   "source": []
  },
  {
   "cell_type": "code",
   "execution_count": null,
   "metadata": {},
   "outputs": [],
   "source": [
    "\n",
    "\n",
    "# \"\"\"\n",
    "# # Definition for a Node.\n",
    "# class Node:\n",
    "#     def __init__(self, x: int, next: 'Node' = None, random: 'Node' = None):\n",
    "#         self.val = int(x)\n",
    "#         self.next = next\n",
    "#         self.random = random\n",
    "# \"\"\"\n",
    "# class Solution:\n",
    "#     def copyRandomList(self, head: 'Node') -> 'Node':\n",
    "#         dic={}\n",
    "#         curr_node = head\n",
    "#         if head == None:\n",
    "#             return None\n",
    "#         while curr_node:\n",
    "#             dic[curr_node] = Node(curr_node.val)\n",
    "#             curr_node=curr_node.next\n",
    "\n",
    "#         curr_node = head    \n",
    "#         while curr_node:\n",
    "#             if curr_node.next == None:\n",
    "#                 dic[curr_node].next = None\n",
    "#             else:\n",
    "#                 dic[curr_node].next = dic[curr_node.next]\n",
    "#             if curr_node.random == None:\n",
    "#                 dic[curr_node].random = None\n",
    "#             else:\n",
    "#                 dic[curr_node].random  = dic[curr_node.random]\n",
    "           \n",
    "#             curr_node = curr_node.next\n",
    "\n",
    "#         return dic[head]"
   ]
  },
  {
   "cell_type": "code",
   "execution_count": 16,
   "metadata": {},
   "outputs": [],
   "source": [
    "# get cost more\n",
    "# dic.get(None)\n",
    "# dic[None]"
   ]
  },
  {
   "cell_type": "code",
   "execution_count": null,
   "metadata": {},
   "outputs": [],
   "source": [
    "# \"\"\"\n",
    "# # Definition for a Node.\n",
    "# class Node:\n",
    "#     def __init__(self, x: int, next: 'Node' = None, random: 'Node' = None):\n",
    "#         self.val = int(x)\n",
    "#         self.next = next\n",
    "#         self.random = random\n",
    "# \"\"\"\n",
    "# class Solution:\n",
    "#     def copyRandomList(self, head: 'Node') -> 'Node':\n",
    "\n",
    "#         if not head: return\n",
    "\n",
    "#         curr_node = head\n",
    "#         while curr_node:\n",
    "            \n",
    "#             next_node= curr_node.next \n",
    "#             curr_node.next = Node(curr_node.val)\n",
    "#             curr_node.next.next = next_node\n",
    "#             curr_node = next_node\n",
    "         \n",
    "\n",
    "#         curr_node = head\n",
    "\n",
    "\n",
    "#         while curr_node:\n",
    "#             if curr_node.random:\n",
    "#                 curr_node.next.random = curr_node.random.next\n",
    "#             curr_node = curr_node.next.next\n",
    "\n",
    "#         curr_node = head\n",
    "#         new_node = temp_new_node = head.next\n",
    "        \n",
    "#         while temp_new_node.next:\n",
    "#             curr_node.next=curr_node.next.next\n",
    "#             temp_new_node.next=temp_new_node.next.next\n",
    "\n",
    "#             curr_node=curr_node.next\n",
    "#             temp_new_node=temp_new_node.next\n",
    "            \n",
    "#         curr_node.next=None\n",
    "\n",
    "#         return new_node\n"
   ]
  },
  {
   "cell_type": "markdown",
   "metadata": {},
   "source": [
    "#### 找出数组中重复的数字。\n",
    "\n",
    "\n",
    "#### 在一个长度为 n 的数组 nums 里的所有数字都在 0～n-1 的范围内。数组中某些数字是重复的，但不知道有几个数字重复了，也不知道每个数字重复了几次。请找出数组中任意一个重复的数字。\n"
   ]
  },
  {
   "cell_type": "code",
   "execution_count": null,
   "metadata": {},
   "outputs": [],
   "source": [
    "### 遍历数组时交换当前位置的数， 注意交换后需要判断一遍。"
   ]
  },
  {
   "cell_type": "code",
   "execution_count": 38,
   "metadata": {},
   "outputs": [],
   "source": [
    "class Solution:\n",
    "    def findRepeatNumber(self, nums: List[int]) -> int:\n",
    "        index=0\n",
    "        while index < len(nums):\n",
    "            number = nums[index]\n",
    "            if number == index:\n",
    "                index+=1\n",
    "                continue\n",
    "            if nums[number] == number :\n",
    "                return number\n",
    "            \n",
    "            temp = nums[number]\n",
    "            nums[number] = number\n",
    "            nums[index] = temp\n",
    "        return -1"
   ]
  },
  {
   "cell_type": "code",
   "execution_count": null,
   "metadata": {},
   "outputs": [],
   "source": [
    "class Solution:\n",
    "    def findRepeatNumber(self, nums: List[int]) -> int:\n",
    "        for index in range(len(nums)):\n",
    "            number = nums[index]\n",
    "            if number == index:\n",
    "                continue\n",
    "            if nums[number] == number :\n",
    "                return number\n",
    "            \n",
    "            temp = nums[number]\n",
    "            nums[number] = number\n",
    "            nums[index] = temp\n",
    "\n",
    "            if nums[index] == index :\n",
    "                return index\n",
    "\n",
    "        return -1"
   ]
  },
  {
   "cell_type": "code",
   "execution_count": null,
   "metadata": {},
   "outputs": [],
   "source": []
  },
  {
   "cell_type": "code",
   "execution_count": null,
   "metadata": {},
   "outputs": [],
   "source": []
  },
  {
   "cell_type": "code",
   "execution_count": null,
   "metadata": {},
   "outputs": [],
   "source": []
  },
  {
   "cell_type": "code",
   "execution_count": null,
   "metadata": {},
   "outputs": [],
   "source": [
    "class Solution:\n",
    "    def findRepeatNumber(self, nums: List[int]) -> int:\n",
    "        index=0\n",
    "        while index < len(nums):\n",
    "            number = nums[index]\n",
    "            if number == index:\n",
    "                index+=1\n",
    "                continue\n",
    "            if nums[number] == number :\n",
    "                return number\n",
    "            \n",
    "            temp = nums[number]\n",
    "            nums[number] = number\n",
    "            nums[index] = temp\n",
    "        return -1"
   ]
  },
  {
   "cell_type": "code",
   "execution_count": null,
   "metadata": {},
   "outputs": [],
   "source": []
  },
  {
   "cell_type": "markdown",
   "metadata": {},
   "source": [
    "#### 给定一棵二叉搜索树，请找出其中第 k 大的节点的值。"
   ]
  },
  {
   "cell_type": "code",
   "execution_count": null,
   "metadata": {},
   "outputs": [],
   "source": [
    "# Definition for a binary tree node.\n",
    "# class TreeNode:\n",
    "#     def __init__(self, x):\n",
    "#         self.val = x\n",
    "#         self.left = None\n",
    "#         self.right = None\n",
    "\n",
    "class Solution:\n",
    "\n",
    "    def __init__(self):\n",
    "        self.stack=[]\n",
    "\n",
    "\n",
    "\n",
    "    def kthLargest(self, root: TreeNode, k: int) -> int:\n",
    "        def dfs(root):\n",
    "            if root:\n",
    "                dfs(root.left)\n",
    "                self.stack.append(root.val)\n",
    "                dfs(root.right)\n",
    "        dfs(root)\n",
    "\n",
    "        return self.stack[-k]\n",
    "\n"
   ]
  },
  {
   "cell_type": "code",
   "execution_count": null,
   "metadata": {},
   "outputs": [],
   "source": []
  },
  {
   "cell_type": "markdown",
   "metadata": {},
   "source": [
    "#### 二叉树的深度"
   ]
  },
  {
   "cell_type": "code",
   "execution_count": null,
   "metadata": {},
   "outputs": [],
   "source": [
    "# Definition for a binary tree node.\n",
    "# class TreeNode:\n",
    "#     def __init__(self, x):\n",
    "#         self.val = x\n",
    "#         self.left = None\n",
    "#         self.right = None\n",
    "\n",
    "class Solution:\n",
    "    def maxDepth(self, root: TreeNode) -> int:\n",
    "        if not root: return 0\n",
    "        return max(self.maxDepth(root.left), self.maxDepth(root.right)) + 1"
   ]
  },
  {
   "cell_type": "code",
   "execution_count": null,
   "metadata": {},
   "outputs": [],
   "source": []
  },
  {
   "cell_type": "markdown",
   "metadata": {},
   "source": [
    "#### 一个长度为n-1的递增排序数组中的所有数字都是唯一的，并且每个数字都在范围0～n-1之内。在范围0～n-1内的n个数字中有且只有一个数字不在该数组中，请找出这个数字。\n",
    "\n"
   ]
  },
  {
   "cell_type": "code",
   "execution_count": null,
   "metadata": {},
   "outputs": [],
   "source": [
    "## binary search algorithm\n",
    "\n",
    "class Solution:\n",
    "    def missingNumber(self, nums: List[int]) -> int:\n",
    "\n",
    "        left_index=0\n",
    "        right_index = len(nums)-1\n",
    "        while left_index <= right_index:\n",
    "            mid_index = (left_index+right_index)//2    \n",
    "            if nums[mid_index] == mid_index:\n",
    "                left_index = mid_index+1\n",
    "            else:\n",
    "                right_index = mid_index-1\n",
    "                \n",
    "        return left_index\n"
   ]
  },
  {
   "cell_type": "markdown",
   "metadata": {},
   "source": [
    "#### 等差数列法"
   ]
  },
  {
   "cell_type": "code",
   "execution_count": null,
   "metadata": {},
   "outputs": [],
   "source": [
    "# Sn=n(a1+an)/2\n",
    "\n",
    "class Solution:\n",
    "    def missingNumber(self, nums: List[int]) -> int:\n",
    "\n",
    "        ori_all = len(nums)*(1+len(nums))/2\n",
    "        sum_arr = sum(nums)\n",
    "        \n",
    "        return int(ori_all - sum_arr  ) \n"
   ]
  },
  {
   "cell_type": "code",
   "execution_count": null,
   "metadata": {},
   "outputs": [],
   "source": []
  },
  {
   "cell_type": "markdown",
   "metadata": {},
   "source": [
    "#### 在一个 n * m 的二维数组中，每一行都按照从左到右递增的顺序排序，每一列都按照从上到下递增的顺序排序。请完成一个高效的函数，输入这样的一个二维数组和一个整数，判断数组中是否含有该整数。\n"
   ]
  },
  {
   "cell_type": "code",
   "execution_count": null,
   "metadata": {},
   "outputs": [],
   "source": [
    "## 暴力， 但是没有利用题目给出的条件\n",
    "\n",
    "## 旋转矩阵   从对角线开始找。\n",
    "\n",
    "class Solution:\n",
    "    def findNumberIn2DArray(self, matrix: List[List[int]], target: int) -> bool:\n",
    "        if not matrix: return False\n",
    "        if matrix==[[]]: return False\n",
    "        n = 0\n",
    "        m = len(matrix[0]) - 1\n",
    "\n",
    "        while n <= len(matrix) - 1 and m >= 0:\n",
    "\n",
    "            if matrix[n][m] > target:\n",
    "                m=m-1\n",
    "            elif matrix[n][m] < target:\n",
    "                n=n+1\n",
    "            else:\n",
    "                return True\n",
    "\n",
    "        return False\n"
   ]
  },
  {
   "cell_type": "markdown",
   "metadata": {},
   "source": [
    "#### 把一个数组最开始的若干个元素搬到数组的末尾，我们称之为数组的旋转。\n",
    "\n",
    "给你一个可能存在 重复 元素值的数组 numbers ，它原来是一个升序排列的数组，并按上述情形进行了一次旋转。请返回旋转数组的最小元素。例如，数组 [3,4,5,1,2] 为 [1,2,3,4,5] 的一次旋转，该数组的最小值为1。\n"
   ]
  },
  {
   "cell_type": "code",
   "execution_count": null,
   "metadata": {},
   "outputs": [],
   "source": [
    "class Solution:\n",
    "    def minArray(self, numbers: List[int]) -> int:\n",
    "        left_index = 0\n",
    "        right_index = len(numbers)-1\n",
    "        while left_index < right_index:\n",
    "\n",
    "            mid_index = (left_index+right_index)//2\n",
    "            if numbers[mid_index] > numbers[right_index]:\n",
    "                left_index = mid_index+1\n",
    "            elif numbers[mid_index] < numbers[right_index]:\n",
    "                right_index = mid_index\n",
    "            else:\n",
    "                right_index = right_index - 1\n",
    "\n",
    "        return numbers[left_index]"
   ]
  },
  {
   "cell_type": "code",
   "execution_count": null,
   "metadata": {},
   "outputs": [],
   "source": []
  },
  {
   "cell_type": "markdown",
   "metadata": {},
   "source": [
    "#### 在字符串 s 中找出第一个只出现一次的字符。如果没有，返回一个单空格。 s 只包含小写字母。\n",
    "Method 1: 遍历两次字典\n"
   ]
  },
  {
   "cell_type": "code",
   "execution_count": 3,
   "metadata": {},
   "outputs": [],
   "source": [
    "### 为什么Python 3.6以后字典有序并且效率更高？\n",
    "### 操作内存的方式不同"
   ]
  },
  {
   "cell_type": "markdown",
   "metadata": {},
   "source": [
    "#### 从上到下打印出二叉树的每个节点，同一层的节点按照从左到右的顺序打印。\n",
    "\n"
   ]
  },
  {
   "cell_type": "code",
   "execution_count": null,
   "metadata": {},
   "outputs": [],
   "source": [
    "\n",
    "### BFS \n",
    "\n",
    "# Definition for a binary tree node.\n",
    "# class TreeNode:\n",
    "#     def __init__(self, x):\n",
    "#         self.val = x\n",
    "#         self.left = None\n",
    "#         self.right = None\n",
    "\n",
    "class Solution:\n",
    "    def levelOrder(self, root: TreeNode) -> List[int]:\n",
    "        stacka=[]\n",
    "        stackb=[]\n",
    "        arr=[]\n",
    "        if not root: return []\n",
    "        stacka.append(root)\n",
    "        while stacka:\n",
    "            if stackb==[]:\n",
    "                while stacka:\n",
    "                    stackb.append(stacka.pop())\n",
    "            while stackb:\n",
    "                node = stackb.pop()\n",
    "                arr.append(node.val)\n",
    "                if node.left:\n",
    "                    stacka.append(node.left)\n",
    "                if node.right:\n",
    "                    stacka.append(node.right)\n",
    "\n",
    "        return arr\n",
    "\n"
   ]
  },
  {
   "cell_type": "markdown",
   "metadata": {},
   "source": [
    "#### 从上到下打印二叉树 II\n",
    "从上到下按层打印二叉树，同一层的节点按从左到右的顺序打印，每一层打印到一行"
   ]
  },
  {
   "cell_type": "code",
   "execution_count": null,
   "metadata": {},
   "outputs": [],
   "source": [
    "# Definition for a binary tree node.\n",
    "# class TreeNode:\n",
    "#     def __init__(self, x):\n",
    "#         self.val = x\n",
    "#         self.left = None\n",
    "#         self.right = None\n",
    "\n",
    "\n",
    "class Solution:\n",
    "    def levelOrder(self, root: TreeNode) -> List[int]:\n",
    "        stacka=[]\n",
    "        stackb=[]\n",
    "        arr=[]\n",
    "        if not root: return []\n",
    "        stacka.append(root)\n",
    "        while stacka:\n",
    "            arr_sub=[]\n",
    "            if stackb==[]:\n",
    "                while stacka:\n",
    "                    stackb.append(stacka.pop())\n",
    "            while stackb:\n",
    "                node = stackb.pop()\n",
    "                arr_sub.append(node.val)\n",
    "                if node.left:\n",
    "                    stacka.append(node.left)\n",
    "                if node.right:\n",
    "                    stacka.append(node.right)\n",
    "            arr.append(arr_sub)\n",
    "\n",
    "        return arr"
   ]
  },
  {
   "cell_type": "code",
   "execution_count": null,
   "metadata": {},
   "outputs": [],
   "source": [
    "#### 双端队列， 解决奇偶层不同的顺序打印\n",
    "\n",
    "#### 另一种解法， 奇数层打一遍， 偶数层打一遍。 \n",
    "\n",
    "#### 倒序\n",
    "\n",
    "# Definition for a binary tree node.\n",
    "# class TreeNode:\n",
    "#     def __init__(self, x):\n",
    "#         self.val = x\n",
    "#         self.left = None\n",
    "#         self.right = None\n",
    "\n",
    "\n",
    "class Solution:\n",
    "    def levelOrder(self, root: TreeNode) -> List[int]:\n",
    "        if not root: return []\n",
    "        queue=[]\n",
    "        queue.append(root)\n",
    "        arr = []\n",
    "        flag=0\n",
    "        while queue:\n",
    "            temp = []\n",
    "            for _ in range(len(queue)):\n",
    "                node = queue.pop(0)\n",
    "                \n",
    "                if len(arr)%2==0:\n",
    "                    temp.append(node.val)\n",
    "                else:\n",
    "                    temp.insert(0,node.val)\n",
    "                if node.left:\n",
    "                    queue.append(node.left)\n",
    "                if node.right:\n",
    "                    queue.append(node.right)\n",
    "\n",
    "            arr.append(temp)\n",
    "\n",
    "        return arr"
   ]
  },
  {
   "cell_type": "code",
   "execution_count": null,
   "metadata": {},
   "outputs": [],
   "source": [
    "# Definition for a binary tree node.\n",
    "# class TreeNode:\n",
    "#     def __init__(self, x):\n",
    "#         self.val = x\n",
    "#         self.left = None\n",
    "#         self.right = None\n",
    "\n",
    "\n",
    "class Solution:\n",
    "    def levelOrder(self, root: TreeNode) -> List[int]:\n",
    "        if not root: return []\n",
    "        queue=[]\n",
    "        queue.append(root)\n",
    "        arr = []\n",
    "        flag=0\n",
    "        while queue:\n",
    "            temp = []\n",
    "            for _ in range(len(queue)):\n",
    "                node = queue.pop(0)\n",
    "                temp.append(node.val)\n",
    "                if node.left:\n",
    "                    queue.append(node.left)\n",
    "                if node.right:\n",
    "                    queue.append(node.right)\n",
    "\n",
    "            arr.append(temp)\n",
    "            if not queue: break\n",
    "            \n",
    "            temp = []\n",
    "            for _ in range(len(queue)):\n",
    "                node = queue.pop()\n",
    "                temp.append(node.val)\n",
    "                if node.right:\n",
    "                    queue.insert(0, node.right)\n",
    "                if node.left:\n",
    "                    queue.insert(0, node.left)\n",
    "\n",
    "\n",
    "            arr.append(temp)\n",
    "\n",
    "        return arr"
   ]
  },
  {
   "cell_type": "code",
   "execution_count": null,
   "metadata": {},
   "outputs": [],
   "source": [
    "### dfs\n",
    "\n",
    "class Solution:\n",
    "    def levelOrder(self, root: TreeNode) -> List[int]:\n",
    "        stack=[]\n",
    "        stack.append(root)\n",
    "        arr = []\n",
    "        if not root: return []\n",
    "        while stack:\n",
    "            node = stack.pop()\n",
    "            arr.append(node.val)\n",
    "\n",
    "            if node.right:\n",
    "                stack.append(node.right)\n",
    "            if node.left:\n",
    "                stack.append(node.left)\n",
    "        return arr"
   ]
  },
  {
   "cell_type": "code",
   "execution_count": null,
   "metadata": {},
   "outputs": [],
   "source": []
  },
  {
   "cell_type": "code",
   "execution_count": 6,
   "metadata": {},
   "outputs": [
    {
     "data": {
      "text/plain": [
       "False"
      ]
     },
     "execution_count": 6,
     "metadata": {},
     "output_type": "execute_result"
    }
   ],
   "source": [
    "bool(None and 1)"
   ]
  },
  {
   "cell_type": "code",
   "execution_count": null,
   "metadata": {},
   "outputs": [],
   "source": [
    "### 子结构可以是一部分，即中间的一段，上有父节点下有子节点；而子树定义就比较严格了，必须是从某一节点到叶子节点才行。\n",
    "### 子串（必须连续）和子序列（可以不连续"
   ]
  },
  {
   "cell_type": "markdown",
   "metadata": {},
   "source": [
    "#### 输入两棵二叉树A和B，判断B是不是A的子结构。(约定空树不是任意一个树的子结构)\n",
    "\n",
    "B是A的子结构， 即 A中有出现和B相同的结构和节点值。"
   ]
  },
  {
   "cell_type": "code",
   "execution_count": null,
   "metadata": {},
   "outputs": [],
   "source": [
    "### 找到B root在 A中的位置。 \n",
    "### 找到后开始判断是否是子树\n",
    "### 子树的条件， b空了，则找到了，   a空了则没找到，   值不同则没找到。\n",
    "\n",
    "# Definition for a binary tree node.\n",
    "# class TreeNode:\n",
    "#     def __init__(self, x):\n",
    "#         self.val = x\n",
    "#         self.left = None\n",
    "#         self.right = None\n",
    "#\n",
    "\n",
    "\n",
    "class Solution:\n",
    "    def isSubStructure(self, A: TreeNode, B: TreeNode) -> bool:\n",
    "        def find_ab(a,b):\n",
    "            if not b: return True\n",
    "            if not a or a.val != b.val: return False\n",
    "            return find_ab(a.left,b.left) and find_ab(a.right,b.right)\n",
    "        return bool(A and B) and (find_ab(A,B) or self.isSubStructure(A.left,B) or self.isSubStructure(A.right,B))"
   ]
  },
  {
   "cell_type": "code",
   "execution_count": null,
   "metadata": {},
   "outputs": [],
   "source": []
  },
  {
   "cell_type": "markdown",
   "metadata": {},
   "source": [
    "#### 请完成一个函数，输入一个二叉树，该函数输出它的镜像。\n",
    "\n"
   ]
  },
  {
   "cell_type": "code",
   "execution_count": null,
   "metadata": {},
   "outputs": [],
   "source": [
    "\n",
    "\n",
    "# Definition for a binary tree node.\n",
    "# class TreeNode:\n",
    "#     def __init__(self, x):\n",
    "#         self.val = x\n",
    "#         self.left = None\n",
    "#         self.right = None\n",
    "\n",
    "class Solution:\n",
    "    def mirrorTree(self, root: TreeNode) -> TreeNode:\n",
    "        if not root: return root\n",
    "        stack=[]\n",
    "        stack.append(root)\n",
    "        while stack:\n",
    "            node = stack.pop()\n",
    "            temp = node.left\n",
    "            node.left = node.right\n",
    "            node.right = temp\n",
    "            if  node.left:\n",
    "                stack.append(node.left)\n",
    "            if  node.right:\n",
    "                stack.append(node.right)\n",
    "        \n",
    "        return root\n",
    "            \n",
    "        \n",
    "class Solution:\n",
    "    def mirrorTree(self, root: TreeNode) -> TreeNode:\n",
    "        if not root: return root\n",
    "        temp = root.left\n",
    "        root.left =   self.mirrorTree(root.right)  \n",
    "        root.right = self.mirrorTree(temp) \n",
    "        return root"
   ]
  },
  {
   "cell_type": "code",
   "execution_count": null,
   "metadata": {},
   "outputs": [],
   "source": []
  },
  {
   "cell_type": "markdown",
   "metadata": {},
   "source": [
    "#### 请实现一个函数，用来判断一棵二叉树是不是对称的。如果一棵二叉树和它的镜像一样，那么它是对称的。"
   ]
  },
  {
   "cell_type": "code",
   "execution_count": null,
   "metadata": {},
   "outputs": [],
   "source": [
    "# Definition for a binary tree node.\n",
    "# class TreeNode:\n",
    "#     def __init__(self, x):\n",
    "#         self.val = x\n",
    "#         self.left = None\n",
    "#         self.right = None\n",
    "\n",
    "class Solution:\n",
    "    def isSymmetric(self, root: TreeNode) -> bool:\n",
    "        def jug(root1,root2):\n",
    "            if not root1 and not root2:\n",
    "                return True\n",
    "            if not root1 or not root2:\n",
    "                return False\n",
    "            return (root1.val == root2.val) and jug(root1.left,root2.right) and jug(root1.right,root2.left)\n",
    "\n",
    "        return jug(root,root)"
   ]
  },
  {
   "cell_type": "code",
   "execution_count": null,
   "metadata": {},
   "outputs": [],
   "source": []
  },
  {
   "cell_type": "markdown",
   "metadata": {},
   "source": [
    "#### 写一个函数，输入 n ，求斐波那契（Fibonacci）数列的第 n 项（即 F(N)）。斐波那契数列的定义如下：\n",
    "\n"
   ]
  },
  {
   "cell_type": "code",
   "execution_count": null,
   "metadata": {},
   "outputs": [],
   "source": [
    "class Solution:\n",
    "    def fib(self, n: int) -> int:\n",
    "        dp=[]\n",
    "        if n==0:\n",
    "            return 0\n",
    "        if n==1:\n",
    "            return 1\n",
    "        dp.append(0)\n",
    "        dp.append(1)\n",
    "        sum=0\n",
    "        for i in range(2, n+1):\n",
    "            sum = dp[i-1]+dp[i-2]\n",
    "            dp.append(sum)\n",
    "        return sum%1000000007"
   ]
  },
  {
   "cell_type": "code",
   "execution_count": null,
   "metadata": {},
   "outputs": [],
   "source": [
    "class Solution:\n",
    "    def fib(self, n: int) -> int:\n",
    "        if n==0:\n",
    "            return 0\n",
    "        if n==1:\n",
    "            return 1\n",
    "        fib_1=0\n",
    "        fib_2=1\n",
    "        fib_sum=0\n",
    "        for i in range(2,n+1):\n",
    "            fib_sum =  fib_1+fib_2\n",
    "            fib_1 = fib_2\n",
    "            fib_2 = fib_sum\n",
    "\n",
    "        return fib_sum%1000000007"
   ]
  },
  {
   "cell_type": "markdown",
   "metadata": {},
   "source": [
    "一只青蛙一次可以跳上1级台阶，也可以跳上2级台阶。求该青蛙跳上一个 n 级的台阶总共有多少种跳法。\n",
    "\n"
   ]
  },
  {
   "cell_type": "markdown",
   "metadata": {},
   "source": [
    "#### 股票的最大利润"
   ]
  },
  {
   "cell_type": "code",
   "execution_count": null,
   "metadata": {},
   "outputs": [],
   "source": [
    "class Solution:\n",
    "    def maxProfit(self, prices: List[int]) -> int:\n",
    "        min_number = inf\n",
    "        max_pro = 0\n",
    "        for i in prices:\n",
    "            if i < min_number:\n",
    "                min_number=i\n",
    "            profit = i - min_number\n",
    "            if profit > max_pro:\n",
    "                max_pro=profit\n",
    "\n",
    "        return max_pro"
   ]
  },
  {
   "cell_type": "markdown",
   "metadata": {},
   "source": [
    "#### 输入一个整型数组，数组中的一个或连续多个整数组成一个子数组。求所有子数组的和的最大值。"
   ]
  },
  {
   "cell_type": "code",
   "execution_count": null,
   "metadata": {},
   "outputs": [],
   "source": [
    "class Solution:\n",
    "    def maxSubArray(self, nums: List[int]) -> int:\n",
    "        max_sum = nums[0]\n",
    "        last_sum = 0\n",
    "        for i in nums:\n",
    "            if last_sum>=0:\n",
    "                sumn = last_sum + i\n",
    "            else:\n",
    "                sumn = i\n",
    "            if max_sum < sumn:\n",
    "                max_sum = sumn\n",
    "            last_sum = sumn\n",
    "        return max_sum"
   ]
  },
  {
   "cell_type": "markdown",
   "metadata": {},
   "source": [
    "#### 在一个 m*n 的棋盘的每一格都放有一个礼物，每个礼物都有一定的价值（价值大于 0）。你可以从棋盘的左上角开始拿格子里的礼物，并每次向右或者向下移动一格、直到到达棋盘的右下角。给定一个棋盘及其上面的礼物的价值，请计算你最多能拿到多少价值的礼物？\n"
   ]
  },
  {
   "cell_type": "code",
   "execution_count": null,
   "metadata": {},
   "outputs": [],
   "source": [
    "class Solution:\n",
    "    def maxValue(self, grid: List[List[int]]) -> int:\n",
    "        value_arr = grid\n",
    "        for index_i in range(len(grid)):\n",
    "            for index_j in range(len(grid[0])):\n",
    "                if index_i==0:\n",
    "                    if index_j==0:\n",
    "                        continue\n",
    "                    value_arr[index_i][index_j] = grid[index_i][index_j-1]+grid[index_i][index_j]\n",
    "                else:\n",
    "                    if index_j==0:\n",
    "                        value_arr[index_i][index_j] = grid[index_i-1][index_j]+grid[index_i][index_j]\n",
    "\n",
    "                    else:\n",
    "                         value_arr[index_i][index_j] = max(grid[index_i][index_j-1]+grid[index_i][index_j], grid[index_i-1][index_j]+grid[index_i][index_j])\n",
    "\n",
    "        \n",
    "        return value_arr[-1][-1]"
   ]
  },
  {
   "cell_type": "markdown",
   "metadata": {},
   "source": [
    "#### 把数字翻译成字符串"
   ]
  },
  {
   "cell_type": "code",
   "execution_count": null,
   "metadata": {},
   "outputs": [],
   "source": [
    "# 动态规划问题， \n",
    "\n",
    "## 状态定义， 转移方程  dp[i]= ， 初始状态， 返回值  有条件的跳台阶问题\n",
    "\n",
    "class Solution:\n",
    "    def translateNum(self, num: int) -> int:\n",
    "\n",
    "        single_num = num%10\n",
    "        n_1 = 1\n",
    "        n_2 = 1\n",
    "        sumn = 1\n",
    "        while num > 9:\n",
    "            num = num/10\n",
    "            double_num = int(num%10)\n",
    "            if (double_num*10+single_num) <= 25 and (double_num*10+single_num) >= 10:\n",
    "                sumn = n_1 + n_2\n",
    "            else:\n",
    "                sumn = n_1\n",
    "\n",
    "            single_num = double_num\n",
    "            n_2 = n_1\n",
    "            n_1 = sumn\n",
    "        \n",
    "        return sumn\n"
   ]
  },
  {
   "cell_type": "code",
   "execution_count": null,
   "metadata": {},
   "outputs": [],
   "source": []
  },
  {
   "cell_type": "code",
   "execution_count": 24,
   "metadata": {},
   "outputs": [
    {
     "name": "stdout",
     "output_type": "stream",
     "text": [
      "106838590.2\n",
      "2\n",
      "2\n",
      "1\n",
      "-------------------------\n",
      "10683859.02\n",
      "90\n",
      "0\n",
      "1\n",
      "-------------------------\n",
      "1068385.902\n",
      "59\n",
      "9\n",
      "1\n",
      "-------------------------\n",
      "106838.5902\n",
      "85\n",
      "5\n",
      "1\n",
      "-------------------------\n",
      "10683.85902\n",
      "38\n",
      "8\n",
      "1\n",
      "-------------------------\n",
      "1068.385902\n",
      "83\n",
      "3\n",
      "1\n",
      "-------------------------\n",
      "106.8385902\n",
      "68\n",
      "8\n",
      "1\n",
      "-------------------------\n",
      "10.68385902\n",
      "6\n",
      "6\n",
      "1\n",
      "-------------------------\n",
      "1.068385902\n",
      "10\n",
      "0\n",
      "2\n",
      "-------------------------\n"
     ]
    }
   ],
   "source": [
    "num=1068385902\n",
    "\n",
    "single_num = num%10\n",
    "n_1 = 1\n",
    "n_2 = 1\n",
    "sumn = 1\n",
    "while num > 9:\n",
    "    num = num/10\n",
    "    double_num = int(num%10)\n",
    "    if (double_num*10+single_num) <= 25 and (double_num*10+single_num) >= 10:\n",
    "        sumn = n_1 + n_2\n",
    "    else:\n",
    "        sumn = n_1\n",
    "\n",
    "    print(num)\n",
    "    print((double_num*10+single_num))\n",
    "    print(single_num)\n",
    "    print(sumn)\n",
    "    print('-------------------------')\n",
    "\n",
    "    single_num = double_num\n",
    "    n_2 = n_1\n",
    "    n_1 = sumn"
   ]
  },
  {
   "cell_type": "code",
   "execution_count": null,
   "metadata": {},
   "outputs": [],
   "source": [
    "## 最长不含重复字符的子字符串\n",
    "\n",
    "## 遍历， start  end,  end 一直往后走， start 取当前重复数值的上一个位置和当前位置的最大值\n",
    "\n",
    "class Solution:\n",
    "    def lengthOfLongestSubstring(self, s: str) -> int:\n",
    "        start = 0 \n",
    "        dic = {}\n",
    "        ans = 0\n",
    "        for end, i in enumerate(s):\n",
    "            pos_i = dic.get(i,-1)  \n",
    "            start = max(start, pos_i) \n",
    "            dic[i]=end + 1\n",
    "            ans = max(end-start+1, ans)\n",
    "\n",
    "        return ans"
   ]
  },
  {
   "cell_type": "code",
   "execution_count": null,
   "metadata": {},
   "outputs": [],
   "source": []
  },
  {
   "cell_type": "markdown",
   "metadata": {},
   "source": [
    "### 输入一个链表，输出该链表中倒数第k个节点。为了符合大多数人的习惯，本题从1开始计数，即链表的尾节点是倒数第1个节点。\n",
    "\n",
    "例如，一个链表有 6 个节点，从头节点开始，它们的值依次是 1、2、3、4、5、6。这个链表的倒数第 3 个节点是值为 4 的节点。\n"
   ]
  },
  {
   "cell_type": "code",
   "execution_count": null,
   "metadata": {},
   "outputs": [],
   "source": [
    "### 快慢指针   双指针:建立两个指针，让两个指针之间相差位置为k，然后遍历链表，遍历完链表，第一个指针就是倒数第k个\n",
    "\n",
    "# Definition for singly-linked list.\n",
    "# class ListNode:\n",
    "#     def __init__(self, x):\n",
    "#         self.val = x\n",
    "#         self.next = None\n",
    "\n",
    "class Solution:\n",
    "    def getKthFromEnd(self, head: ListNode, k: int) -> ListNode:\n",
    "        arr = []\n",
    "        fast = head\n",
    "        slow = head\n",
    "\n",
    "        for _ in range(k):\n",
    "            fast = fast.next\n",
    "\n",
    "        while fast:\n",
    "            fast = fast.next\n",
    "            slow = slow.next\n",
    "\n",
    "        return slow"
   ]
  },
  {
   "cell_type": "code",
   "execution_count": null,
   "metadata": {},
   "outputs": [],
   "source": [
    "# Definition for singly-linked list.\n",
    "# class ListNode:\n",
    "#     def __init__(self, x):\n",
    "#         self.val = x\n",
    "#         self.next = None\n",
    "\n",
    "class Solution:\n",
    "    def getKthFromEnd(self, head: ListNode, k: int) -> ListNode:\n",
    "        arr = []\n",
    "        node = head\n",
    "        while node:\n",
    "            arr.append(node)\n",
    "            node = node.next\n",
    "\n",
    "        return arr[-k]"
   ]
  }
 ],
 "metadata": {
  "kernelspec": {
   "display_name": "Python 3",
   "language": "python",
   "name": "python3"
  },
  "language_info": {
   "codemirror_mode": {
    "name": "ipython",
    "version": 3
   },
   "file_extension": ".py",
   "mimetype": "text/x-python",
   "name": "python",
   "nbconvert_exporter": "python",
   "pygments_lexer": "ipython3",
   "version": "3.8.5"
  }
 },
 "nbformat": 4,
 "nbformat_minor": 4
}
