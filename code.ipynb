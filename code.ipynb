{
 "cells": [
  {
   "cell_type": "code",
   "execution_count": null,
   "metadata": {},
   "outputs": [],
   "source": [
    "# 单前导下划线：_var\n",
    "# 单末尾下划线：var_\n",
    "# 双前导下划线：__var\n",
    "# 双前导和末尾下划线：__var__\n",
    "# 单下划线：_"
   ]
  },
  {
   "cell_type": "markdown",
   "metadata": {},
   "source": [
    "#### 1725. 可以形成最大正方形的矩形数目"
   ]
  },
  {
   "cell_type": "code",
   "execution_count": null,
   "metadata": {},
   "outputs": [],
   "source": [
    "class Solution:\n",
    "    # def countGoodRectangles(self, rectangles: List[List[int]]) -> int:\n",
    "    #     arr = []\n",
    "    #     for i in rectangles:\n",
    "    #         arr.append(min(i))\n",
    "    #     max_i = max(arr)\n",
    "    #     number = 0\n",
    "    #     for i in arr:\n",
    "    #         if i == max_i:\n",
    "    #             number+=1\n",
    "                \n",
    "\n",
    "    #     return number\n",
    "\n",
    "\n",
    "\n",
    "    def countGoodRectangles(self, rectangles: List[List[int]]) -> int:\n",
    "\n",
    "        return_num = 0\n",
    "        max_num = 0\n",
    "        for i, j in rectangles:\n",
    "            min_i_j = min(i,j)\n",
    "            if max_num==min_i_j:\n",
    "                return_num+=1\n",
    "            elif min_i_j>max_num:\n",
    "                return_num=1\n",
    "                max_num = min_i_j\n",
    "        return return_num\n"
   ]
  },
  {
   "cell_type": "markdown",
   "metadata": {},
   "source": [
    "#### 1. 两数之和"
   ]
  },
  {
   "cell_type": "code",
   "execution_count": null,
   "metadata": {},
   "outputs": [],
   "source": [
    "class Solution:\n",
    "    def twoSum(self, nums: List[int], target: int) -> List[int]:\n",
    "        dic={}\n",
    "        for index, i in enumerate(nums) :\n",
    "            if i in dic:\n",
    "                return [index, dic[i]]\n",
    "            else:\n",
    "                dic[target-i]=index\n",
    "        "
   ]
  },
  {
   "cell_type": "markdown",
   "metadata": {},
   "source": [
    "#### 2. 两数相加"
   ]
  },
  {
   "cell_type": "code",
   "execution_count": null,
   "metadata": {},
   "outputs": [],
   "source": [
    "# Definition for singly-linked list.\n",
    "# class ListNode:\n",
    "#     def __init__(self, val=0, next=None):\n",
    "#         self.val = val\n",
    "#         self.next = next\n",
    "class Solution:\n",
    "    def addTwoNumbers(self, l1: ListNode, l2: ListNode) -> ListNode:\n",
    "        head = ListNode()\n",
    "        newnode = head\n",
    "        node1 = l1\n",
    "        node2 = l2\n",
    "        more_num = 0\n",
    "        while node1 or node2:\n",
    "            if node1 and node2:\n",
    "                sum_l1_l2 = node1.val+node2.val\n",
    "                if more_num > 0:\n",
    "                    sum_l1_l2+=1\n",
    "                    more_num=0\n",
    "                if sum_l1_l2 >= 10:\n",
    "                    more_num=1\n",
    "                    sum_l1_l2 = sum_l1_l2 % 10\n",
    "                newnode.next=ListNode(sum_l1_l2)\n",
    "                newnode=newnode.next\n",
    "                node1 = node1.next\n",
    "                node2 = node2.next\n",
    "            elif node1:\n",
    "                sum_l1_l2 = node1.val\n",
    "                if more_num > 0:\n",
    "                    sum_l1_l2+=1\n",
    "                    more_num=0\n",
    "                if sum_l1_l2 >= 10:\n",
    "                    more_num=1\n",
    "                    sum_l1_l2 = sum_l1_l2 % 10\n",
    "                newnode.next=ListNode(sum_l1_l2)\n",
    "                newnode=newnode.next\n",
    "                node1 = node1.next\n",
    "\n",
    "            elif node2:\n",
    "                sum_l1_l2 = node2.val\n",
    "                if more_num > 0:\n",
    "                    sum_l1_l2+=1\n",
    "                    more_num=0\n",
    "                if sum_l1_l2 >= 10:\n",
    "                    more_num=1\n",
    "                    sum_l1_l2 = sum_l1_l2 % 10\n",
    "                newnode.next=ListNode(sum_l1_l2)\n",
    "                newnode=newnode.next\n",
    "                node2 = node2.next\n",
    "        if more_num==1:\n",
    "            newnode.next=ListNode(1)\n",
    "            newnode=newnode.next\n",
    "\n",
    "        return head.next"
   ]
  }
 ],
 "metadata": {
  "kernelspec": {
   "display_name": "Python 3",
   "language": "python",
   "name": "python3"
  },
  "language_info": {
   "codemirror_mode": {
    "name": "ipython",
    "version": 3
   },
   "file_extension": ".py",
   "mimetype": "text/x-python",
   "name": "python",
   "nbconvert_exporter": "python",
   "pygments_lexer": "ipython3",
   "version": "3.8.5"
  }
 },
 "nbformat": 4,
 "nbformat_minor": 4
}
